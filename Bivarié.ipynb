{
 "cells": [
  {
   "cell_type": "code",
   "execution_count": 17,
   "id": "11ea3f0c",
   "metadata": {
    "tags": []
   },
   "outputs": [],
   "source": [
    "import pandas as pd \n",
    "import  numpy as np  \n",
    "import matplotlib.pyplot as plt\n",
    "import seaborn as sns\n",
    "import os\n",
    "from scipy.stats import chi2_contingency\n",
    "from scipy.stats import ttest_ind"
   ]
  },
  {
   "cell_type": "code",
   "execution_count": 7,
   "id": "c798d177",
   "metadata": {
    "tags": []
   },
   "outputs": [],
   "source": [
    "banque= \"C:/Users/ASUS ROG Zephyrus S/Desktop/Downloads/Banque.csv \""
   ]
  },
  {
   "cell_type": "code",
   "execution_count": 42,
   "id": "72a973bc",
   "metadata": {
    "tags": []
   },
   "outputs": [],
   "source": [
    "df = pd.read_csv(banque, sep=';', encoding='latin-1')"
   ]
  },
  {
   "cell_type": "code",
   "execution_count": 32,
   "id": "c09d04a8",
   "metadata": {
    "tags": []
   },
   "outputs": [
    {
     "data": {
      "text/html": [
       "<div>\n",
       "<style scoped>\n",
       "    .dataframe tbody tr th:only-of-type {\n",
       "        vertical-align: middle;\n",
       "    }\n",
       "\n",
       "    .dataframe tbody tr th {\n",
       "        vertical-align: top;\n",
       "    }\n",
       "\n",
       "    .dataframe thead th {\n",
       "        text-align: right;\n",
       "    }\n",
       "</style>\n",
       "<table border=\"1\" class=\"dataframe\">\n",
       "  <thead>\n",
       "    <tr style=\"text-align: right;\">\n",
       "      <th></th>\n",
       "      <th>ID</th>\n",
       "      <th>Age</th>\n",
       "      <th>Exp</th>\n",
       "      <th>RMM</th>\n",
       "      <th>F</th>\n",
       "      <th>DM</th>\n",
       "      <th>Educ</th>\n",
       "      <th>CEL</th>\n",
       "      <th>PP</th>\n",
       "    </tr>\n",
       "  </thead>\n",
       "  <tbody>\n",
       "    <tr>\n",
       "      <th>0</th>\n",
       "      <td>1</td>\n",
       "      <td>25</td>\n",
       "      <td>1</td>\n",
       "      <td>49</td>\n",
       "      <td>4</td>\n",
       "      <td>1600</td>\n",
       "      <td>1</td>\n",
       "      <td>Non</td>\n",
       "      <td>Non</td>\n",
       "    </tr>\n",
       "    <tr>\n",
       "      <th>1</th>\n",
       "      <td>2</td>\n",
       "      <td>45</td>\n",
       "      <td>19</td>\n",
       "      <td>34</td>\n",
       "      <td>3</td>\n",
       "      <td>1500</td>\n",
       "      <td>1</td>\n",
       "      <td>Non</td>\n",
       "      <td>Non</td>\n",
       "    </tr>\n",
       "    <tr>\n",
       "      <th>2</th>\n",
       "      <td>3</td>\n",
       "      <td>39</td>\n",
       "      <td>15</td>\n",
       "      <td>11</td>\n",
       "      <td>1</td>\n",
       "      <td>1000</td>\n",
       "      <td>1</td>\n",
       "      <td>Non</td>\n",
       "      <td>Non</td>\n",
       "    </tr>\n",
       "    <tr>\n",
       "      <th>3</th>\n",
       "      <td>4</td>\n",
       "      <td>35</td>\n",
       "      <td>9</td>\n",
       "      <td>100</td>\n",
       "      <td>1</td>\n",
       "      <td>2700</td>\n",
       "      <td>2</td>\n",
       "      <td>Non</td>\n",
       "      <td>Non</td>\n",
       "    </tr>\n",
       "    <tr>\n",
       "      <th>4</th>\n",
       "      <td>5</td>\n",
       "      <td>35</td>\n",
       "      <td>8</td>\n",
       "      <td>45</td>\n",
       "      <td>4</td>\n",
       "      <td>1000</td>\n",
       "      <td>2</td>\n",
       "      <td>Non</td>\n",
       "      <td>Non</td>\n",
       "    </tr>\n",
       "    <tr>\n",
       "      <th>...</th>\n",
       "      <td>...</td>\n",
       "      <td>...</td>\n",
       "      <td>...</td>\n",
       "      <td>...</td>\n",
       "      <td>...</td>\n",
       "      <td>...</td>\n",
       "      <td>...</td>\n",
       "      <td>...</td>\n",
       "      <td>...</td>\n",
       "    </tr>\n",
       "    <tr>\n",
       "      <th>4889</th>\n",
       "      <td>4996</td>\n",
       "      <td>29</td>\n",
       "      <td>3</td>\n",
       "      <td>40</td>\n",
       "      <td>1</td>\n",
       "      <td>1900</td>\n",
       "      <td>3</td>\n",
       "      <td>Non</td>\n",
       "      <td>Non</td>\n",
       "    </tr>\n",
       "    <tr>\n",
       "      <th>4890</th>\n",
       "      <td>4997</td>\n",
       "      <td>30</td>\n",
       "      <td>4</td>\n",
       "      <td>15</td>\n",
       "      <td>4</td>\n",
       "      <td>400</td>\n",
       "      <td>1</td>\n",
       "      <td>Non</td>\n",
       "      <td>Non</td>\n",
       "    </tr>\n",
       "    <tr>\n",
       "      <th>4891</th>\n",
       "      <td>4998</td>\n",
       "      <td>63</td>\n",
       "      <td>39</td>\n",
       "      <td>24</td>\n",
       "      <td>2</td>\n",
       "      <td>300</td>\n",
       "      <td>3</td>\n",
       "      <td>Non</td>\n",
       "      <td>Non</td>\n",
       "    </tr>\n",
       "    <tr>\n",
       "      <th>4892</th>\n",
       "      <td>4999</td>\n",
       "      <td>65</td>\n",
       "      <td>40</td>\n",
       "      <td>49</td>\n",
       "      <td>3</td>\n",
       "      <td>500</td>\n",
       "      <td>2</td>\n",
       "      <td>Non</td>\n",
       "      <td>Non</td>\n",
       "    </tr>\n",
       "    <tr>\n",
       "      <th>4893</th>\n",
       "      <td>5000</td>\n",
       "      <td>28</td>\n",
       "      <td>4</td>\n",
       "      <td>83</td>\n",
       "      <td>3</td>\n",
       "      <td>800</td>\n",
       "      <td>1</td>\n",
       "      <td>Non</td>\n",
       "      <td>Non</td>\n",
       "    </tr>\n",
       "  </tbody>\n",
       "</table>\n",
       "<p>4894 rows × 9 columns</p>\n",
       "</div>"
      ],
      "text/plain": [
       "        ID  Age  Exp  RMM  F    DM  Educ  CEL   PP\n",
       "0        1   25    1   49  4  1600     1  Non  Non\n",
       "1        2   45   19   34  3  1500     1  Non  Non\n",
       "2        3   39   15   11  1  1000     1  Non  Non\n",
       "3        4   35    9  100  1  2700     2  Non  Non\n",
       "4        5   35    8   45  4  1000     2  Non  Non\n",
       "...    ...  ...  ...  ... ..   ...   ...  ...  ...\n",
       "4889  4996   29    3   40  1  1900     3  Non  Non\n",
       "4890  4997   30    4   15  4   400     1  Non  Non\n",
       "4891  4998   63   39   24  2   300     3  Non  Non\n",
       "4892  4999   65   40   49  3   500     2  Non  Non\n",
       "4893  5000   28    4   83  3   800     1  Non  Non\n",
       "\n",
       "[4894 rows x 9 columns]"
      ]
     },
     "execution_count": 32,
     "metadata": {},
     "output_type": "execute_result"
    }
   ],
   "source": [
    "df"
   ]
  },
  {
   "cell_type": "markdown",
   "id": "61db88f7",
   "metadata": {},
   "source": [
    "print(\"Colonnes actuelles :\", df.columns)"
   ]
  },
  {
   "cell_type": "code",
   "execution_count": 5,
   "id": "fbf33bec",
   "metadata": {},
   "outputs": [],
   "source": [
    "descriptive_stats = df.describe()"
   ]
  },
  {
   "cell_type": "code",
   "execution_count": 6,
   "id": "029cf55f",
   "metadata": {},
   "outputs": [
    {
     "name": "stdout",
     "output_type": "stream",
     "text": [
      "                ID          Age          Exp          RMM            F  \\\n",
      "count  4894.000000  4894.000000  4894.000000  4894.000000  4894.000000   \n",
      "mean   2499.444013    45.333265    20.088680    73.684716     2.405394   \n",
      "std    1445.437454    11.474275    11.475238    46.045208     1.149174   \n",
      "min       1.000000    23.000000    -3.000000     8.000000     1.000000   \n",
      "25%    1242.250000    35.000000    10.000000    39.000000     1.000000   \n",
      "50%    2501.500000    45.000000    20.000000    63.000000     2.000000   \n",
      "75%    3750.750000    55.000000    30.000000    98.000000     3.000000   \n",
      "max    5000.000000    67.000000    43.000000   224.000000     4.000000   \n",
      "\n",
      "                 DM         Educ  \n",
      "count   4894.000000  4894.000000  \n",
      "mean    1979.912137     1.885574  \n",
      "std     1742.801543     0.839199  \n",
      "min      100.000000     1.000000  \n",
      "25%      700.000000     1.000000  \n",
      "50%     1600.000000     2.000000  \n",
      "75%     2600.000000     3.000000  \n",
      "max    10000.000000     3.000000  \n"
     ]
    }
   ],
   "source": [
    "print(descriptive_stats)"
   ]
  },
  {
   "cell_type": "code",
   "execution_count": 7,
   "id": "a9c6e3ed",
   "metadata": {},
   "outputs": [],
   "source": [
    "from scipy.stats import fisher_exact"
   ]
  },
  {
   "cell_type": "code",
   "execution_count": 8,
   "id": "564abd8d",
   "metadata": {},
   "outputs": [
    {
     "data": {
      "text/html": [
       "<div>\n",
       "<style scoped>\n",
       "    .dataframe tbody tr th:only-of-type {\n",
       "        vertical-align: middle;\n",
       "    }\n",
       "\n",
       "    .dataframe tbody tr th {\n",
       "        vertical-align: top;\n",
       "    }\n",
       "\n",
       "    .dataframe thead tr th {\n",
       "        text-align: left;\n",
       "    }\n",
       "\n",
       "    .dataframe thead tr:last-of-type th {\n",
       "        text-align: right;\n",
       "    }\n",
       "</style>\n",
       "<table border=\"1\" class=\"dataframe\">\n",
       "  <thead>\n",
       "    <tr>\n",
       "      <th></th>\n",
       "      <th colspan=\"8\" halign=\"left\">ID</th>\n",
       "      <th colspan=\"2\" halign=\"left\">Age</th>\n",
       "      <th>...</th>\n",
       "      <th colspan=\"2\" halign=\"left\">DM</th>\n",
       "      <th colspan=\"8\" halign=\"left\">Educ</th>\n",
       "    </tr>\n",
       "    <tr>\n",
       "      <th></th>\n",
       "      <th>count</th>\n",
       "      <th>mean</th>\n",
       "      <th>std</th>\n",
       "      <th>min</th>\n",
       "      <th>25%</th>\n",
       "      <th>50%</th>\n",
       "      <th>75%</th>\n",
       "      <th>max</th>\n",
       "      <th>count</th>\n",
       "      <th>mean</th>\n",
       "      <th>...</th>\n",
       "      <th>75%</th>\n",
       "      <th>max</th>\n",
       "      <th>count</th>\n",
       "      <th>mean</th>\n",
       "      <th>std</th>\n",
       "      <th>min</th>\n",
       "      <th>25%</th>\n",
       "      <th>50%</th>\n",
       "      <th>75%</th>\n",
       "      <th>max</th>\n",
       "    </tr>\n",
       "    <tr>\n",
       "      <th>PP</th>\n",
       "      <th></th>\n",
       "      <th></th>\n",
       "      <th></th>\n",
       "      <th></th>\n",
       "      <th></th>\n",
       "      <th></th>\n",
       "      <th></th>\n",
       "      <th></th>\n",
       "      <th></th>\n",
       "      <th></th>\n",
       "      <th></th>\n",
       "      <th></th>\n",
       "      <th></th>\n",
       "      <th></th>\n",
       "      <th></th>\n",
       "      <th></th>\n",
       "      <th></th>\n",
       "      <th></th>\n",
       "      <th></th>\n",
       "      <th></th>\n",
       "      <th></th>\n",
       "    </tr>\n",
       "  </thead>\n",
       "  <tbody>\n",
       "    <tr>\n",
       "      <th>Non</th>\n",
       "      <td>4415.0</td>\n",
       "      <td>2511.00521</td>\n",
       "      <td>1450.487365</td>\n",
       "      <td>1.0</td>\n",
       "      <td>1252.5</td>\n",
       "      <td>2519.0</td>\n",
       "      <td>3768.5</td>\n",
       "      <td>5000.0</td>\n",
       "      <td>4415.0</td>\n",
       "      <td>45.359003</td>\n",
       "      <td>...</td>\n",
       "      <td>2300.0</td>\n",
       "      <td>8800.0</td>\n",
       "      <td>4415.0</td>\n",
       "      <td>1.847792</td>\n",
       "      <td>0.839352</td>\n",
       "      <td>1.0</td>\n",
       "      <td>1.0</td>\n",
       "      <td>2.0</td>\n",
       "      <td>3.0</td>\n",
       "      <td>3.0</td>\n",
       "    </tr>\n",
       "    <tr>\n",
       "      <th>Oui</th>\n",
       "      <td>479.0</td>\n",
       "      <td>2392.88309</td>\n",
       "      <td>1394.992023</td>\n",
       "      <td>10.0</td>\n",
       "      <td>1166.0</td>\n",
       "      <td>2346.0</td>\n",
       "      <td>3568.0</td>\n",
       "      <td>4981.0</td>\n",
       "      <td>479.0</td>\n",
       "      <td>45.096033</td>\n",
       "      <td>...</td>\n",
       "      <td>5365.0</td>\n",
       "      <td>10000.0</td>\n",
       "      <td>479.0</td>\n",
       "      <td>2.233820</td>\n",
       "      <td>0.754085</td>\n",
       "      <td>1.0</td>\n",
       "      <td>2.0</td>\n",
       "      <td>2.0</td>\n",
       "      <td>3.0</td>\n",
       "      <td>3.0</td>\n",
       "    </tr>\n",
       "  </tbody>\n",
       "</table>\n",
       "<p>2 rows × 56 columns</p>\n",
       "</div>"
      ],
      "text/plain": [
       "         ID                                                                 \\\n",
       "      count        mean          std   min     25%     50%     75%     max   \n",
       "PP                                                                           \n",
       "Non  4415.0  2511.00521  1450.487365   1.0  1252.5  2519.0  3768.5  5000.0   \n",
       "Oui   479.0  2392.88309  1394.992023  10.0  1166.0  2346.0  3568.0  4981.0   \n",
       "\n",
       "        Age             ...      DM             Educ                           \\\n",
       "      count       mean  ...     75%      max   count      mean       std  min   \n",
       "PP                      ...                                                     \n",
       "Non  4415.0  45.359003  ...  2300.0   8800.0  4415.0  1.847792  0.839352  1.0   \n",
       "Oui   479.0  45.096033  ...  5365.0  10000.0   479.0  2.233820  0.754085  1.0   \n",
       "\n",
       "                         \n",
       "     25%  50%  75%  max  \n",
       "PP                       \n",
       "Non  1.0  2.0  3.0  3.0  \n",
       "Oui  2.0  2.0  3.0  3.0  \n",
       "\n",
       "[2 rows x 56 columns]"
      ]
     },
     "execution_count": 8,
     "metadata": {},
     "output_type": "execute_result"
    }
   ],
   "source": [
    "df_result=df.groupby(\"PP\")\n",
    "df_result.describe()"
   ]
  },
  {
   "cell_type": "code",
   "execution_count": 7,
   "id": "b0e103bf-3a29-47b5-962a-8aa6de838e58",
   "metadata": {
    "tags": []
   },
   "outputs": [
    {
     "data": {
      "text/plain": [
       "count     4894\n",
       "unique       2\n",
       "top        Non\n",
       "freq      4415\n",
       "Name: PP, dtype: object"
      ]
     },
     "execution_count": 7,
     "metadata": {},
     "output_type": "execute_result"
    }
   ],
   "source": [
    "df['PP'].describe()"
   ]
  },
  {
   "cell_type": "code",
   "execution_count": 11,
   "id": "64da270b-960e-4db0-940b-8b3820c8559e",
   "metadata": {
    "tags": []
   },
   "outputs": [
    {
     "data": {
      "text/plain": [
       "<pandas.core.groupby.generic.DataFrameGroupBy object at 0x000001A526CF9E50>"
      ]
     },
     "execution_count": 11,
     "metadata": {},
     "output_type": "execute_result"
    }
   ],
   "source": [
    "df_pp=df.groupby(\"PP\")\n",
    "df_pp"
   ]
  },
  {
   "cell_type": "code",
   "execution_count": 28,
   "id": "2769121b-a715-4a7b-a16e-10c9cfea639d",
   "metadata": {
    "tags": []
   },
   "outputs": [
    {
     "data": {
      "text/plain": [
       "PP\n",
       "Non    4415\n",
       "Oui     479\n",
       "Name: count, dtype: int64"
      ]
     },
     "execution_count": 28,
     "metadata": {},
     "output_type": "execute_result"
    }
   ],
   "source": [
    "df['PP'].value_counts()"
   ]
  },
  {
   "cell_type": "code",
   "execution_count": 32,
   "id": "72e25055-1f23-4f96-87c7-946d2c63c620",
   "metadata": {
    "tags": []
   },
   "outputs": [
    {
     "name": "stdout",
     "output_type": "stream",
     "text": [
      "Pourcentages de chaque modalité de la variable PP:\n",
      "PP\n",
      "Non    90.212505\n",
      "Oui     9.787495\n",
      "Name: count, dtype: float64\n"
     ]
    }
   ],
   "source": [
    "modalite_counts = df['PP'].value_counts()\n",
    "\n",
    "# Calculer les pourcentages de chaque modalité\n",
    "pourcentages = (modalite_counts / len(df['PP'])) * 100\n",
    "\n",
    "# Afficher les pourcentages exacts de chaque modalité\n",
    "print(\"Pourcentages de chaque modalité de la variable PP:\")\n",
    "print(pourcentages)"
   ]
  },
  {
   "cell_type": "code",
   "execution_count": 31,
   "id": "f6edb971-a86a-4189-a6c6-cb3b3512a4ba",
   "metadata": {
    "tags": []
   },
   "outputs": [
    {
     "data": {
      "image/png": "[encoded data removed]",
      "text/plain": [
       "<Figure size 1000x600 with 1 Axes>"
      ]
     },
     "metadata": {},
     "output_type": "display_data"
    }
   ],
   "source": [
    "import pandas as pd\n",
    "import matplotlib.pyplot as plt\n",
    "\n",
    "# Supposons que vous avez déjà un DataFrame df avec une colonne 'PP'\n",
    "# Utilisez value_counts() pour compter le nombre de chaque modalité\n",
    "modalite_counts = df['PP'].value_counts()\n",
    "\n",
    "# Calculer les pourcentages de chaque modalité\n",
    "pourcentages = (modalite_counts / len(df['PP'])) * 100\n",
    "\n",
    "# Afficher un diagramme à barres pour visualiser les pourcentages de modalités\n",
    "plt.figure(figsize=(10, 6))\n",
    "pourcentages.plot(kind='bar', color='skyblue')\n",
    "plt.xlabel('Modalités')\n",
    "plt.ylabel('Pourcentage (%)')\n",
    "plt.title('Pourcentage de chaque modalité de la variable PP')\n",
    "plt.show()"
   ]
  },
  {
   "cell_type": "code",
   "execution_count": 9,
   "id": "1aac5ac4",
   "metadata": {},
   "outputs": [],
   "source": [
    "df_pp_age=df.groupby(\"PP\")[\"Age\"]"
   ]
  },
  {
   "cell_type": "code",
   "execution_count": 10,
   "id": "c629ece5",
   "metadata": {},
   "outputs": [
    {
     "data": {
      "text/html": [
       "<div>\n",
       "<style scoped>\n",
       "    .dataframe tbody tr th:only-of-type {\n",
       "        vertical-align: middle;\n",
       "    }\n",
       "\n",
       "    .dataframe tbody tr th {\n",
       "        vertical-align: top;\n",
       "    }\n",
       "\n",
       "    .dataframe thead th {\n",
       "        text-align: right;\n",
       "    }\n",
       "</style>\n",
       "<table border=\"1\" class=\"dataframe\">\n",
       "  <thead>\n",
       "    <tr style=\"text-align: right;\">\n",
       "      <th></th>\n",
       "      <th>count</th>\n",
       "      <th>mean</th>\n",
       "      <th>std</th>\n",
       "      <th>min</th>\n",
       "      <th>25%</th>\n",
       "      <th>50%</th>\n",
       "      <th>75%</th>\n",
       "      <th>max</th>\n",
       "    </tr>\n",
       "    <tr>\n",
       "      <th>PP</th>\n",
       "      <th></th>\n",
       "      <th></th>\n",
       "      <th></th>\n",
       "      <th></th>\n",
       "      <th></th>\n",
       "      <th></th>\n",
       "      <th></th>\n",
       "      <th></th>\n",
       "    </tr>\n",
       "  </thead>\n",
       "  <tbody>\n",
       "    <tr>\n",
       "      <th>Non</th>\n",
       "      <td>4415.0</td>\n",
       "      <td>45.359003</td>\n",
       "      <td>11.463205</td>\n",
       "      <td>23.0</td>\n",
       "      <td>35.0</td>\n",
       "      <td>45.0</td>\n",
       "      <td>55.0</td>\n",
       "      <td>67.0</td>\n",
       "    </tr>\n",
       "    <tr>\n",
       "      <th>Oui</th>\n",
       "      <td>479.0</td>\n",
       "      <td>45.096033</td>\n",
       "      <td>11.585193</td>\n",
       "      <td>26.0</td>\n",
       "      <td>35.0</td>\n",
       "      <td>45.0</td>\n",
       "      <td>55.0</td>\n",
       "      <td>65.0</td>\n",
       "    </tr>\n",
       "  </tbody>\n",
       "</table>\n",
       "</div>"
      ],
      "text/plain": [
       "      count       mean        std   min   25%   50%   75%   max\n",
       "PP                                                             \n",
       "Non  4415.0  45.359003  11.463205  23.0  35.0  45.0  55.0  67.0\n",
       "Oui   479.0  45.096033  11.585193  26.0  35.0  45.0  55.0  65.0"
      ]
     },
     "execution_count": 10,
     "metadata": {},
     "output_type": "execute_result"
    }
   ],
   "source": [
    "df_pp_age.describe()"
   ]
  },
  {
   "cell_type": "code",
   "execution_count": 11,
   "id": "1739691d",
   "metadata": {},
   "outputs": [
    {
     "data": {
      "image/png": "[encoded data removed]",
      "text/plain": [
       "<Figure size 640x480 with 1 Axes>"
      ]
     },
     "metadata": {},
     "output_type": "display_data"
    }
   ],
   "source": [
    "sns.boxplot(data=df, x=\"PP\", y='Age')\n",
    "\n",
    "# nom des axes\n",
    "plt.xlabel(\"Pret Personnel\")\n",
    "plt.ylabel(\"Age\")\n",
    "# titre et sous-titre\n",
    "plt.suptitle(\"Pret Personnel selon l'age\")\n",
    "# grille\n",
    "plt.grid()"
   ]
  },
  {
   "cell_type": "code",
   "execution_count": 18,
   "id": "db3e52ad",
   "metadata": {
    "tags": []
   },
   "outputs": [],
   "source": [
    "import pandas as pd\n",
    "import statsmodels.api as sm\n",
    "from statsmodels.formula.api import ols"
   ]
  },
  {
   "cell_type": "code",
   "execution_count": 13,
   "id": "a11971be",
   "metadata": {
    "scrolled": true
   },
   "outputs": [
    {
     "data": {
      "text/html": [
       "<div>\n",
       "<style scoped>\n",
       "    .dataframe tbody tr th:only-of-type {\n",
       "        vertical-align: middle;\n",
       "    }\n",
       "\n",
       "    .dataframe tbody tr th {\n",
       "        vertical-align: top;\n",
       "    }\n",
       "\n",
       "    .dataframe thead th {\n",
       "        text-align: right;\n",
       "    }\n",
       "</style>\n",
       "<table border=\"1\" class=\"dataframe\">\n",
       "  <thead>\n",
       "    <tr style=\"text-align: right;\">\n",
       "      <th>PP</th>\n",
       "      <th>Non</th>\n",
       "      <th>Oui</th>\n",
       "    </tr>\n",
       "    <tr>\n",
       "      <th>Age</th>\n",
       "      <th></th>\n",
       "      <th></th>\n",
       "    </tr>\n",
       "  </thead>\n",
       "  <tbody>\n",
       "    <tr>\n",
       "      <th>23</th>\n",
       "      <td>12</td>\n",
       "      <td>0</td>\n",
       "    </tr>\n",
       "    <tr>\n",
       "      <th>24</th>\n",
       "      <td>28</td>\n",
       "      <td>0</td>\n",
       "    </tr>\n",
       "    <tr>\n",
       "      <th>25</th>\n",
       "      <td>52</td>\n",
       "      <td>0</td>\n",
       "    </tr>\n",
       "    <tr>\n",
       "      <th>26</th>\n",
       "      <td>65</td>\n",
       "      <td>13</td>\n",
       "    </tr>\n",
       "    <tr>\n",
       "      <th>27</th>\n",
       "      <td>75</td>\n",
       "      <td>12</td>\n",
       "    </tr>\n",
       "    <tr>\n",
       "      <th>28</th>\n",
       "      <td>93</td>\n",
       "      <td>9</td>\n",
       "    </tr>\n",
       "    <tr>\n",
       "      <th>29</th>\n",
       "      <td>106</td>\n",
       "      <td>15</td>\n",
       "    </tr>\n",
       "    <tr>\n",
       "      <th>30</th>\n",
       "      <td>118</td>\n",
       "      <td>17</td>\n",
       "    </tr>\n",
       "    <tr>\n",
       "      <th>31</th>\n",
       "      <td>118</td>\n",
       "      <td>6</td>\n",
       "    </tr>\n",
       "    <tr>\n",
       "      <th>32</th>\n",
       "      <td>107</td>\n",
       "      <td>12</td>\n",
       "    </tr>\n",
       "    <tr>\n",
       "      <th>33</th>\n",
       "      <td>102</td>\n",
       "      <td>15</td>\n",
       "    </tr>\n",
       "    <tr>\n",
       "      <th>34</th>\n",
       "      <td>112</td>\n",
       "      <td>18</td>\n",
       "    </tr>\n",
       "    <tr>\n",
       "      <th>35</th>\n",
       "      <td>128</td>\n",
       "      <td>16</td>\n",
       "    </tr>\n",
       "    <tr>\n",
       "      <th>36</th>\n",
       "      <td>89</td>\n",
       "      <td>16</td>\n",
       "    </tr>\n",
       "    <tr>\n",
       "      <th>37</th>\n",
       "      <td>97</td>\n",
       "      <td>8</td>\n",
       "    </tr>\n",
       "    <tr>\n",
       "      <th>38</th>\n",
       "      <td>96</td>\n",
       "      <td>12</td>\n",
       "    </tr>\n",
       "    <tr>\n",
       "      <th>39</th>\n",
       "      <td>126</td>\n",
       "      <td>6</td>\n",
       "    </tr>\n",
       "    <tr>\n",
       "      <th>40</th>\n",
       "      <td>114</td>\n",
       "      <td>8</td>\n",
       "    </tr>\n",
       "    <tr>\n",
       "      <th>41</th>\n",
       "      <td>126</td>\n",
       "      <td>8</td>\n",
       "    </tr>\n",
       "    <tr>\n",
       "      <th>42</th>\n",
       "      <td>108</td>\n",
       "      <td>14</td>\n",
       "    </tr>\n",
       "    <tr>\n",
       "      <th>43</th>\n",
       "      <td>132</td>\n",
       "      <td>15</td>\n",
       "    </tr>\n",
       "    <tr>\n",
       "      <th>44</th>\n",
       "      <td>101</td>\n",
       "      <td>14</td>\n",
       "    </tr>\n",
       "    <tr>\n",
       "      <th>45</th>\n",
       "      <td>114</td>\n",
       "      <td>13</td>\n",
       "    </tr>\n",
       "    <tr>\n",
       "      <th>46</th>\n",
       "      <td>111</td>\n",
       "      <td>13</td>\n",
       "    </tr>\n",
       "    <tr>\n",
       "      <th>47</th>\n",
       "      <td>99</td>\n",
       "      <td>10</td>\n",
       "    </tr>\n",
       "    <tr>\n",
       "      <th>48</th>\n",
       "      <td>102</td>\n",
       "      <td>12</td>\n",
       "    </tr>\n",
       "    <tr>\n",
       "      <th>49</th>\n",
       "      <td>103</td>\n",
       "      <td>10</td>\n",
       "    </tr>\n",
       "    <tr>\n",
       "      <th>50</th>\n",
       "      <td>120</td>\n",
       "      <td>13</td>\n",
       "    </tr>\n",
       "    <tr>\n",
       "      <th>51</th>\n",
       "      <td>114</td>\n",
       "      <td>10</td>\n",
       "    </tr>\n",
       "    <tr>\n",
       "      <th>52</th>\n",
       "      <td>126</td>\n",
       "      <td>15</td>\n",
       "    </tr>\n",
       "    <tr>\n",
       "      <th>53</th>\n",
       "      <td>101</td>\n",
       "      <td>11</td>\n",
       "    </tr>\n",
       "    <tr>\n",
       "      <th>54</th>\n",
       "      <td>127</td>\n",
       "      <td>15</td>\n",
       "    </tr>\n",
       "    <tr>\n",
       "      <th>55</th>\n",
       "      <td>114</td>\n",
       "      <td>9</td>\n",
       "    </tr>\n",
       "    <tr>\n",
       "      <th>56</th>\n",
       "      <td>119</td>\n",
       "      <td>14</td>\n",
       "    </tr>\n",
       "    <tr>\n",
       "      <th>57</th>\n",
       "      <td>119</td>\n",
       "      <td>12</td>\n",
       "    </tr>\n",
       "    <tr>\n",
       "      <th>58</th>\n",
       "      <td>131</td>\n",
       "      <td>10</td>\n",
       "    </tr>\n",
       "    <tr>\n",
       "      <th>59</th>\n",
       "      <td>121</td>\n",
       "      <td>9</td>\n",
       "    </tr>\n",
       "    <tr>\n",
       "      <th>60</th>\n",
       "      <td>116</td>\n",
       "      <td>10</td>\n",
       "    </tr>\n",
       "    <tr>\n",
       "      <th>61</th>\n",
       "      <td>108</td>\n",
       "      <td>12</td>\n",
       "    </tr>\n",
       "    <tr>\n",
       "      <th>62</th>\n",
       "      <td>111</td>\n",
       "      <td>9</td>\n",
       "    </tr>\n",
       "    <tr>\n",
       "      <th>63</th>\n",
       "      <td>89</td>\n",
       "      <td>16</td>\n",
       "    </tr>\n",
       "    <tr>\n",
       "      <th>64</th>\n",
       "      <td>66</td>\n",
       "      <td>8</td>\n",
       "    </tr>\n",
       "    <tr>\n",
       "      <th>65</th>\n",
       "      <td>64</td>\n",
       "      <td>14</td>\n",
       "    </tr>\n",
       "    <tr>\n",
       "      <th>66</th>\n",
       "      <td>23</td>\n",
       "      <td>0</td>\n",
       "    </tr>\n",
       "    <tr>\n",
       "      <th>67</th>\n",
       "      <td>12</td>\n",
       "      <td>0</td>\n",
       "    </tr>\n",
       "  </tbody>\n",
       "</table>\n",
       "</div>"
      ],
      "text/plain": [
       "PP   Non  Oui\n",
       "Age          \n",
       "23    12    0\n",
       "24    28    0\n",
       "25    52    0\n",
       "26    65   13\n",
       "27    75   12\n",
       "28    93    9\n",
       "29   106   15\n",
       "30   118   17\n",
       "31   118    6\n",
       "32   107   12\n",
       "33   102   15\n",
       "34   112   18\n",
       "35   128   16\n",
       "36    89   16\n",
       "37    97    8\n",
       "38    96   12\n",
       "39   126    6\n",
       "40   114    8\n",
       "41   126    8\n",
       "42   108   14\n",
       "43   132   15\n",
       "44   101   14\n",
       "45   114   13\n",
       "46   111   13\n",
       "47    99   10\n",
       "48   102   12\n",
       "49   103   10\n",
       "50   120   13\n",
       "51   114   10\n",
       "52   126   15\n",
       "53   101   11\n",
       "54   127   15\n",
       "55   114    9\n",
       "56   119   14\n",
       "57   119   12\n",
       "58   131   10\n",
       "59   121    9\n",
       "60   116   10\n",
       "61   108   12\n",
       "62   111    9\n",
       "63    89   16\n",
       "64    66    8\n",
       "65    64   14\n",
       "66    23    0\n",
       "67    12    0"
      ]
     },
     "execution_count": 13,
     "metadata": {},
     "output_type": "execute_result"
    }
   ],
   "source": [
    "tab1=pd.crosstab(df['Age'], df[\"PP\"])\n",
    "tab1"
   ]
  },
  {
   "cell_type": "code",
   "execution_count": 14,
   "id": "9ada72d9",
   "metadata": {},
   "outputs": [
    {
     "name": "stdout",
     "output_type": "stream",
     "text": [
      "                 sum_sq      df         F    PR(>F)\n",
      "PP            29.882343     1.0  0.226932  0.633829\n",
      "Residual  644177.562078  4892.0       NaN       NaN\n"
     ]
    }
   ],
   "source": [
    "model = ols('Age ~ PP', data=df).fit()\n",
    "anova_table1 = sm.stats.anova_lm(model, typ=2)\n",
    "print(anova_table1)"
   ]
  },
  {
   "cell_type": "code",
   "execution_count": 15,
   "id": "d019db1d",
   "metadata": {},
   "outputs": [],
   "source": [
    "def rap_cor(table_anova1,n) :\n",
    "    VM=table_anova1['sum_sq'][0]\n",
    "    MV=table_anova1['sum_sq'][1]\n",
    "    rap_cor=round((VM/(VM+MV))**0.5,3)\n",
    "    return rap_cor"
   ]
  },
  {
   "cell_type": "code",
   "execution_count": 16,
   "id": "ed9387da",
   "metadata": {},
   "outputs": [
    {
     "data": {
      "text/plain": [
       "0.007"
      ]
     },
     "execution_count": 16,
     "metadata": {},
     "output_type": "execute_result"
    }
   ],
   "source": [
    "n=df.shape[0]\n",
    "rap_cor(anova_table1,n)"
   ]
  },
  {
   "cell_type": "code",
   "execution_count": 17,
   "id": "1a5a751b",
   "metadata": {},
   "outputs": [],
   "source": [
    "import warnings\n",
    "warnings.filterwarnings('ignore', category=UserWarning)"
   ]
  },
  {
   "cell_type": "code",
   "execution_count": 18,
   "id": "529d377b",
   "metadata": {},
   "outputs": [
    {
     "data": {
      "text/plain": [
       "<Figure size 1200x600 with 0 Axes>"
      ]
     },
     "metadata": {},
     "output_type": "display_data"
    },
    {
     "data": {
      "image/png": "[encoded data removed]",
      "text/plain": [
       "<Figure size 1200x600 with 2 Axes>"
      ]
     },
     "metadata": {},
     "output_type": "display_data"
    }
   ],
   "source": [
    "plt.figure(figsize=(12, 6))\n",
    "g = sns.FacetGrid(df, col='PP', height=6, aspect=1)\n",
    "g.map(sns.histplot, 'Age', kde=True, bins=30, color='skyblue', edgecolor='black')\n",
    "g.set_axis_labels('Âge', 'Densité')\n",
    "g.set_titles(col_template='{col_name}')\n",
    "plt.suptitle('Histogramme avec densité de l\\'âge en fonction de la variable \"PP\"', y=1.02)\n",
    "plt.show() #La probabilité de ne pas avoir un pret personnel est supperieur a l'avoir quoi que se soit l'age"
   ]
  },
  {
   "cell_type": "markdown",
   "id": "68eea19c",
   "metadata": {},
   "source": [
    "## Analyse bivarié entre les années d'expériences et l'obtention d'un pret personnel**"
   ]
  },
  {
   "cell_type": "code",
   "execution_count": 19,
   "id": "e1ce75bc",
   "metadata": {},
   "outputs": [],
   "source": [
    "df_pp_exp=df.groupby(\"PP\")[\"Exp\"]"
   ]
  },
  {
   "cell_type": "code",
   "execution_count": 20,
   "id": "4c12a024",
   "metadata": {},
   "outputs": [
    {
     "data": {
      "text/html": [
       "<div>\n",
       "<style scoped>\n",
       "    .dataframe tbody tr th:only-of-type {\n",
       "        vertical-align: middle;\n",
       "    }\n",
       "\n",
       "    .dataframe tbody tr th {\n",
       "        vertical-align: top;\n",
       "    }\n",
       "\n",
       "    .dataframe thead th {\n",
       "        text-align: right;\n",
       "    }\n",
       "</style>\n",
       "<table border=\"1\" class=\"dataframe\">\n",
       "  <thead>\n",
       "    <tr style=\"text-align: right;\">\n",
       "      <th></th>\n",
       "      <th>count</th>\n",
       "      <th>mean</th>\n",
       "      <th>std</th>\n",
       "      <th>min</th>\n",
       "      <th>25%</th>\n",
       "      <th>50%</th>\n",
       "      <th>75%</th>\n",
       "      <th>max</th>\n",
       "    </tr>\n",
       "    <tr>\n",
       "      <th>PP</th>\n",
       "      <th></th>\n",
       "      <th></th>\n",
       "      <th></th>\n",
       "      <th></th>\n",
       "      <th></th>\n",
       "      <th></th>\n",
       "      <th></th>\n",
       "      <th></th>\n",
       "    </tr>\n",
       "  </thead>\n",
       "  <tbody>\n",
       "    <tr>\n",
       "      <th>Non</th>\n",
       "      <td>4415.0</td>\n",
       "      <td>20.112344</td>\n",
       "      <td>11.464927</td>\n",
       "      <td>-3.0</td>\n",
       "      <td>10.0</td>\n",
       "      <td>20.0</td>\n",
       "      <td>30.0</td>\n",
       "      <td>43.0</td>\n",
       "    </tr>\n",
       "    <tr>\n",
       "      <th>Oui</th>\n",
       "      <td>479.0</td>\n",
       "      <td>19.870564</td>\n",
       "      <td>11.579629</td>\n",
       "      <td>0.0</td>\n",
       "      <td>9.0</td>\n",
       "      <td>20.0</td>\n",
       "      <td>30.0</td>\n",
       "      <td>41.0</td>\n",
       "    </tr>\n",
       "  </tbody>\n",
       "</table>\n",
       "</div>"
      ],
      "text/plain": [
       "      count       mean        std  min   25%   50%   75%   max\n",
       "PP                                                            \n",
       "Non  4415.0  20.112344  11.464927 -3.0  10.0  20.0  30.0  43.0\n",
       "Oui   479.0  19.870564  11.579629  0.0   9.0  20.0  30.0  41.0"
      ]
     },
     "execution_count": 20,
     "metadata": {},
     "output_type": "execute_result"
    }
   ],
   "source": [
    "df_pp_exp.describe()"
   ]
  },
  {
   "cell_type": "code",
   "execution_count": 21,
   "id": "64110e7d",
   "metadata": {},
   "outputs": [
    {
     "data": {
      "image/png": "[encoded data removed]",
      "text/plain": [
       "<Figure size 640x480 with 1 Axes>"
      ]
     },
     "metadata": {},
     "output_type": "display_data"
    }
   ],
   "source": [
    "sns.boxplot(data=df, x=\"PP\", y='Exp')\n",
    "\n",
    "# nom des axes\n",
    "plt.xlabel(\"Pret Personnel\")\n",
    "plt.ylabel(\"Experience\")\n",
    "# titre et sous-titre\n",
    "plt.suptitle(\"Pret Personnel selon les années d'éxperiences\")\n",
    "# grille\n",
    "plt.grid() #Les annees d'experiences n'ont aucun effet sur l'obtention d'un pret personnel"
   ]
  },
  {
   "cell_type": "code",
   "execution_count": 22,
   "id": "fba43ea7",
   "metadata": {},
   "outputs": [
    {
     "data": {
      "text/html": [
       "<div>\n",
       "<style scoped>\n",
       "    .dataframe tbody tr th:only-of-type {\n",
       "        vertical-align: middle;\n",
       "    }\n",
       "\n",
       "    .dataframe tbody tr th {\n",
       "        vertical-align: top;\n",
       "    }\n",
       "\n",
       "    .dataframe thead th {\n",
       "        text-align: right;\n",
       "    }\n",
       "</style>\n",
       "<table border=\"1\" class=\"dataframe\">\n",
       "  <thead>\n",
       "    <tr style=\"text-align: right;\">\n",
       "      <th>PP</th>\n",
       "      <th>Non</th>\n",
       "      <th>Oui</th>\n",
       "    </tr>\n",
       "    <tr>\n",
       "      <th>Exp</th>\n",
       "      <th></th>\n",
       "      <th></th>\n",
       "    </tr>\n",
       "  </thead>\n",
       "  <tbody>\n",
       "    <tr>\n",
       "      <th>-3</th>\n",
       "      <td>4</td>\n",
       "      <td>0</td>\n",
       "    </tr>\n",
       "    <tr>\n",
       "      <th>-2</th>\n",
       "      <td>15</td>\n",
       "      <td>0</td>\n",
       "    </tr>\n",
       "    <tr>\n",
       "      <th>-1</th>\n",
       "      <td>33</td>\n",
       "      <td>0</td>\n",
       "    </tr>\n",
       "    <tr>\n",
       "      <th>0</th>\n",
       "      <td>59</td>\n",
       "      <td>7</td>\n",
       "    </tr>\n",
       "    <tr>\n",
       "      <th>1</th>\n",
       "      <td>65</td>\n",
       "      <td>8</td>\n",
       "    </tr>\n",
       "    <tr>\n",
       "      <th>2</th>\n",
       "      <td>76</td>\n",
       "      <td>9</td>\n",
       "    </tr>\n",
       "    <tr>\n",
       "      <th>3</th>\n",
       "      <td>108</td>\n",
       "      <td>17</td>\n",
       "    </tr>\n",
       "    <tr>\n",
       "      <th>4</th>\n",
       "      <td>103</td>\n",
       "      <td>9</td>\n",
       "    </tr>\n",
       "    <tr>\n",
       "      <th>5</th>\n",
       "      <td>129</td>\n",
       "      <td>14</td>\n",
       "    </tr>\n",
       "    <tr>\n",
       "      <th>6</th>\n",
       "      <td>107</td>\n",
       "      <td>12</td>\n",
       "    </tr>\n",
       "    <tr>\n",
       "      <th>7</th>\n",
       "      <td>108</td>\n",
       "      <td>11</td>\n",
       "    </tr>\n",
       "    <tr>\n",
       "      <th>8</th>\n",
       "      <td>98</td>\n",
       "      <td>18</td>\n",
       "    </tr>\n",
       "    <tr>\n",
       "      <th>9</th>\n",
       "      <td>121</td>\n",
       "      <td>20</td>\n",
       "    </tr>\n",
       "    <tr>\n",
       "      <th>10</th>\n",
       "      <td>108</td>\n",
       "      <td>7</td>\n",
       "    </tr>\n",
       "    <tr>\n",
       "      <th>11</th>\n",
       "      <td>99</td>\n",
       "      <td>13</td>\n",
       "    </tr>\n",
       "    <tr>\n",
       "      <th>12</th>\n",
       "      <td>82</td>\n",
       "      <td>16</td>\n",
       "    </tr>\n",
       "    <tr>\n",
       "      <th>13</th>\n",
       "      <td>106</td>\n",
       "      <td>11</td>\n",
       "    </tr>\n",
       "    <tr>\n",
       "      <th>14</th>\n",
       "      <td>115</td>\n",
       "      <td>6</td>\n",
       "    </tr>\n",
       "    <tr>\n",
       "      <th>15</th>\n",
       "      <td>112</td>\n",
       "      <td>5</td>\n",
       "    </tr>\n",
       "    <tr>\n",
       "      <th>16</th>\n",
       "      <td>112</td>\n",
       "      <td>13</td>\n",
       "    </tr>\n",
       "    <tr>\n",
       "      <th>17</th>\n",
       "      <td>110</td>\n",
       "      <td>11</td>\n",
       "    </tr>\n",
       "    <tr>\n",
       "      <th>18</th>\n",
       "      <td>123</td>\n",
       "      <td>12</td>\n",
       "    </tr>\n",
       "    <tr>\n",
       "      <th>19</th>\n",
       "      <td>115</td>\n",
       "      <td>14</td>\n",
       "    </tr>\n",
       "    <tr>\n",
       "      <th>20</th>\n",
       "      <td>129</td>\n",
       "      <td>17</td>\n",
       "    </tr>\n",
       "    <tr>\n",
       "      <th>21</th>\n",
       "      <td>99</td>\n",
       "      <td>11</td>\n",
       "    </tr>\n",
       "    <tr>\n",
       "      <th>22</th>\n",
       "      <td>107</td>\n",
       "      <td>13</td>\n",
       "    </tr>\n",
       "    <tr>\n",
       "      <th>23</th>\n",
       "      <td>130</td>\n",
       "      <td>13</td>\n",
       "    </tr>\n",
       "    <tr>\n",
       "      <th>24</th>\n",
       "      <td>120</td>\n",
       "      <td>8</td>\n",
       "    </tr>\n",
       "    <tr>\n",
       "      <th>25</th>\n",
       "      <td>125</td>\n",
       "      <td>14</td>\n",
       "    </tr>\n",
       "    <tr>\n",
       "      <th>26</th>\n",
       "      <td>114</td>\n",
       "      <td>14</td>\n",
       "    </tr>\n",
       "    <tr>\n",
       "      <th>27</th>\n",
       "      <td>113</td>\n",
       "      <td>10</td>\n",
       "    </tr>\n",
       "    <tr>\n",
       "      <th>28</th>\n",
       "      <td>124</td>\n",
       "      <td>11</td>\n",
       "    </tr>\n",
       "    <tr>\n",
       "      <th>29</th>\n",
       "      <td>111</td>\n",
       "      <td>12</td>\n",
       "    </tr>\n",
       "    <tr>\n",
       "      <th>30</th>\n",
       "      <td>111</td>\n",
       "      <td>13</td>\n",
       "    </tr>\n",
       "    <tr>\n",
       "      <th>31</th>\n",
       "      <td>90</td>\n",
       "      <td>12</td>\n",
       "    </tr>\n",
       "    <tr>\n",
       "      <th>32</th>\n",
       "      <td>139</td>\n",
       "      <td>14</td>\n",
       "    </tr>\n",
       "    <tr>\n",
       "      <th>33</th>\n",
       "      <td>108</td>\n",
       "      <td>7</td>\n",
       "    </tr>\n",
       "    <tr>\n",
       "      <th>34</th>\n",
       "      <td>115</td>\n",
       "      <td>10</td>\n",
       "    </tr>\n",
       "    <tr>\n",
       "      <th>35</th>\n",
       "      <td>128</td>\n",
       "      <td>13</td>\n",
       "    </tr>\n",
       "    <tr>\n",
       "      <th>36</th>\n",
       "      <td>101</td>\n",
       "      <td>12</td>\n",
       "    </tr>\n",
       "    <tr>\n",
       "      <th>37</th>\n",
       "      <td>101</td>\n",
       "      <td>13</td>\n",
       "    </tr>\n",
       "    <tr>\n",
       "      <th>38</th>\n",
       "      <td>77</td>\n",
       "      <td>8</td>\n",
       "    </tr>\n",
       "    <tr>\n",
       "      <th>39</th>\n",
       "      <td>72</td>\n",
       "      <td>10</td>\n",
       "    </tr>\n",
       "    <tr>\n",
       "      <th>40</th>\n",
       "      <td>49</td>\n",
       "      <td>4</td>\n",
       "    </tr>\n",
       "    <tr>\n",
       "      <th>41</th>\n",
       "      <td>34</td>\n",
       "      <td>7</td>\n",
       "    </tr>\n",
       "    <tr>\n",
       "      <th>42</th>\n",
       "      <td>7</td>\n",
       "      <td>0</td>\n",
       "    </tr>\n",
       "    <tr>\n",
       "      <th>43</th>\n",
       "      <td>3</td>\n",
       "      <td>0</td>\n",
       "    </tr>\n",
       "  </tbody>\n",
       "</table>\n",
       "</div>"
      ],
      "text/plain": [
       "PP   Non  Oui\n",
       "Exp          \n",
       "-3     4    0\n",
       "-2    15    0\n",
       "-1    33    0\n",
       " 0    59    7\n",
       " 1    65    8\n",
       " 2    76    9\n",
       " 3   108   17\n",
       " 4   103    9\n",
       " 5   129   14\n",
       " 6   107   12\n",
       " 7   108   11\n",
       " 8    98   18\n",
       " 9   121   20\n",
       " 10  108    7\n",
       " 11   99   13\n",
       " 12   82   16\n",
       " 13  106   11\n",
       " 14  115    6\n",
       " 15  112    5\n",
       " 16  112   13\n",
       " 17  110   11\n",
       " 18  123   12\n",
       " 19  115   14\n",
       " 20  129   17\n",
       " 21   99   11\n",
       " 22  107   13\n",
       " 23  130   13\n",
       " 24  120    8\n",
       " 25  125   14\n",
       " 26  114   14\n",
       " 27  113   10\n",
       " 28  124   11\n",
       " 29  111   12\n",
       " 30  111   13\n",
       " 31   90   12\n",
       " 32  139   14\n",
       " 33  108    7\n",
       " 34  115   10\n",
       " 35  128   13\n",
       " 36  101   12\n",
       " 37  101   13\n",
       " 38   77    8\n",
       " 39   72   10\n",
       " 40   49    4\n",
       " 41   34    7\n",
       " 42    7    0\n",
       " 43    3    0"
      ]
     },
     "execution_count": 22,
     "metadata": {},
     "output_type": "execute_result"
    }
   ],
   "source": [
    "tab2=pd.crosstab(df['Exp'], df[\"PP\"])\n",
    "tab2"
   ]
  },
  {
   "cell_type": "code",
   "execution_count": 23,
   "id": "a3ef869c",
   "metadata": {},
   "outputs": [
    {
     "name": "stdout",
     "output_type": "stream",
     "text": [
      "                 sum_sq      df         F    PR(>F)\n",
      "PP            25.260688     1.0  0.191801  0.661441\n",
      "Residual  644290.252185  4892.0       NaN       NaN\n"
     ]
    }
   ],
   "source": [
    "model = ols('Exp ~ PP', data=df).fit()\n",
    "anova_table2 = sm.stats.anova_lm(model, typ=2)\n",
    "print(anova_table2)"
   ]
  },
  {
   "cell_type": "code",
   "execution_count": 24,
   "id": "5c4edd2a",
   "metadata": {},
   "outputs": [],
   "source": [
    "def rap_cor(table_anova2,n) :\n",
    "    VM=table_anova2['sum_sq'][0]\n",
    "    MV=table_anova2['sum_sq'][1]\n",
    "    rap_cor=round((VM/(VM+MV))**0.5,3)\n",
    "    return rap_cor"
   ]
  },
  {
   "cell_type": "code",
   "execution_count": 25,
   "id": "7d67e1ac",
   "metadata": {},
   "outputs": [
    {
     "data": {
      "text/plain": [
       "0.006"
      ]
     },
     "execution_count": 25,
     "metadata": {},
     "output_type": "execute_result"
    }
   ],
   "source": [
    "n=df.shape[0]\n",
    "rap_cor(anova_table2,n)"
   ]
  },
  {
   "cell_type": "code",
   "execution_count": 26,
   "id": "9fad23ca",
   "metadata": {},
   "outputs": [
    {
     "data": {
      "text/plain": [
       "<Figure size 1200x600 with 0 Axes>"
      ]
     },
     "metadata": {},
     "output_type": "display_data"
    },
    {
     "data": {
      "image/png": "[encoded data removed]",
      "text/plain": [
       "<Figure size 1200x600 with 2 Axes>"
      ]
     },
     "metadata": {},
     "output_type": "display_data"
    }
   ],
   "source": [
    "plt.figure(figsize=(12, 6))\n",
    "g = sns.FacetGrid(df, col='PP', height=6, aspect=1)\n",
    "g.map(sns.histplot, 'Exp', kde=True, bins=30, color='skyblue', edgecolor='black')\n",
    "g.set_axis_labels('Exp', 'Densité')\n",
    "g.set_titles(col_template='{col_name}')\n",
    "plt.suptitle('Histogramme avec densité des années d\\'éxperiences en fonction de la variable \"PP\"', y=1.02)\n",
    "plt.show() #La probabilité de ne pas avoir un pret personnel est supperieur a l'avoir quoi que se soit les annees d'experiences"
   ]
  },
  {
   "cell_type": "markdown",
   "id": "aa03781a",
   "metadata": {},
   "source": [
    "## Analyse bivarié entre le revenue monsuelle par milliers et l'obtention d'un pret personnel"
   ]
  },
  {
   "cell_type": "code",
   "execution_count": 27,
   "id": "bc62868c",
   "metadata": {},
   "outputs": [],
   "source": [
    "df_pp_rmm=df.groupby(\"PP\")[\"RMM\"]"
   ]
  },
  {
   "cell_type": "code",
   "execution_count": 28,
   "id": "3b28d065",
   "metadata": {},
   "outputs": [
    {
     "data": {
      "text/html": [
       "<div>\n",
       "<style scoped>\n",
       "    .dataframe tbody tr th:only-of-type {\n",
       "        vertical-align: middle;\n",
       "    }\n",
       "\n",
       "    .dataframe tbody tr th {\n",
       "        vertical-align: top;\n",
       "    }\n",
       "\n",
       "    .dataframe thead th {\n",
       "        text-align: right;\n",
       "    }\n",
       "</style>\n",
       "<table border=\"1\" class=\"dataframe\">\n",
       "  <thead>\n",
       "    <tr style=\"text-align: right;\">\n",
       "      <th></th>\n",
       "      <th>count</th>\n",
       "      <th>mean</th>\n",
       "      <th>std</th>\n",
       "      <th>min</th>\n",
       "      <th>25%</th>\n",
       "      <th>50%</th>\n",
       "      <th>75%</th>\n",
       "      <th>max</th>\n",
       "    </tr>\n",
       "    <tr>\n",
       "      <th>PP</th>\n",
       "      <th></th>\n",
       "      <th></th>\n",
       "      <th></th>\n",
       "      <th></th>\n",
       "      <th></th>\n",
       "      <th></th>\n",
       "      <th></th>\n",
       "      <th></th>\n",
       "    </tr>\n",
       "  </thead>\n",
       "  <tbody>\n",
       "    <tr>\n",
       "      <th>Non</th>\n",
       "      <td>4415.0</td>\n",
       "      <td>65.985730</td>\n",
       "      <td>40.456626</td>\n",
       "      <td>8.0</td>\n",
       "      <td>35.0</td>\n",
       "      <td>59.0</td>\n",
       "      <td>84.0</td>\n",
       "      <td>224.0</td>\n",
       "    </tr>\n",
       "    <tr>\n",
       "      <th>Oui</th>\n",
       "      <td>479.0</td>\n",
       "      <td>144.647182</td>\n",
       "      <td>31.543335</td>\n",
       "      <td>60.0</td>\n",
       "      <td>122.0</td>\n",
       "      <td>142.0</td>\n",
       "      <td>172.0</td>\n",
       "      <td>203.0</td>\n",
       "    </tr>\n",
       "  </tbody>\n",
       "</table>\n",
       "</div>"
      ],
      "text/plain": [
       "      count        mean        std   min    25%    50%    75%    max\n",
       "PP                                                                  \n",
       "Non  4415.0   65.985730  40.456626   8.0   35.0   59.0   84.0  224.0\n",
       "Oui   479.0  144.647182  31.543335  60.0  122.0  142.0  172.0  203.0"
      ]
     },
     "execution_count": 28,
     "metadata": {},
     "output_type": "execute_result"
    }
   ],
   "source": [
    "df_pp_rmm.describe()"
   ]
  },
  {
   "cell_type": "code",
   "execution_count": 33,
   "id": "0d05af88",
   "metadata": {
    "tags": []
   },
   "outputs": [
    {
     "data": {
      "image/png": "[encoded data removed]",
      "text/plain": [
       "<Figure size 640x480 with 1 Axes>"
      ]
     },
     "metadata": {},
     "output_type": "display_data"
    }
   ],
   "source": [
    "sns.boxplot(data=df, x=\"PP\", y='RMM')\n",
    "\n",
    "# nom des axes\n",
    "plt.xlabel(\"Pret Personnel\")\n",
    "plt.ylabel(\"Revenue par milliers\")\n",
    "# titre et sous-titre\n",
    "plt.suptitle(\"Pret Personnel selon le revenue par milliers\")\n",
    "# grille\n",
    "plt.grid() #Nous remarquons sur le graphe que les individus ayant un revenue supperieur a 100.000, on plus de probabilité a avoir des pret personnel"
   ]
  },
  {
   "cell_type": "code",
   "execution_count": 30,
   "id": "49cbbe46",
   "metadata": {},
   "outputs": [
    {
     "data": {
      "text/html": [
       "<div>\n",
       "<style scoped>\n",
       "    .dataframe tbody tr th:only-of-type {\n",
       "        vertical-align: middle;\n",
       "    }\n",
       "\n",
       "    .dataframe tbody tr th {\n",
       "        vertical-align: top;\n",
       "    }\n",
       "\n",
       "    .dataframe thead th {\n",
       "        text-align: right;\n",
       "    }\n",
       "</style>\n",
       "<table border=\"1\" class=\"dataframe\">\n",
       "  <thead>\n",
       "    <tr style=\"text-align: right;\">\n",
       "      <th>PP</th>\n",
       "      <th>Non</th>\n",
       "      <th>Oui</th>\n",
       "    </tr>\n",
       "    <tr>\n",
       "      <th>RMM</th>\n",
       "      <th></th>\n",
       "      <th></th>\n",
       "    </tr>\n",
       "  </thead>\n",
       "  <tbody>\n",
       "    <tr>\n",
       "      <th>8</th>\n",
       "      <td>23</td>\n",
       "      <td>0</td>\n",
       "    </tr>\n",
       "    <tr>\n",
       "      <th>9</th>\n",
       "      <td>23</td>\n",
       "      <td>0</td>\n",
       "    </tr>\n",
       "    <tr>\n",
       "      <th>10</th>\n",
       "      <td>22</td>\n",
       "      <td>0</td>\n",
       "    </tr>\n",
       "    <tr>\n",
       "      <th>11</th>\n",
       "      <td>25</td>\n",
       "      <td>0</td>\n",
       "    </tr>\n",
       "    <tr>\n",
       "      <th>12</th>\n",
       "      <td>29</td>\n",
       "      <td>0</td>\n",
       "    </tr>\n",
       "    <tr>\n",
       "      <th>...</th>\n",
       "      <td>...</td>\n",
       "      <td>...</td>\n",
       "    </tr>\n",
       "    <tr>\n",
       "      <th>203</th>\n",
       "      <td>1</td>\n",
       "      <td>1</td>\n",
       "    </tr>\n",
       "    <tr>\n",
       "      <th>204</th>\n",
       "      <td>3</td>\n",
       "      <td>0</td>\n",
       "    </tr>\n",
       "    <tr>\n",
       "      <th>205</th>\n",
       "      <td>2</td>\n",
       "      <td>0</td>\n",
       "    </tr>\n",
       "    <tr>\n",
       "      <th>218</th>\n",
       "      <td>1</td>\n",
       "      <td>0</td>\n",
       "    </tr>\n",
       "    <tr>\n",
       "      <th>224</th>\n",
       "      <td>1</td>\n",
       "      <td>0</td>\n",
       "    </tr>\n",
       "  </tbody>\n",
       "</table>\n",
       "<p>162 rows × 2 columns</p>\n",
       "</div>"
      ],
      "text/plain": [
       "PP   Non  Oui\n",
       "RMM          \n",
       "8     23    0\n",
       "9     23    0\n",
       "10    22    0\n",
       "11    25    0\n",
       "12    29    0\n",
       "..   ...  ...\n",
       "203    1    1\n",
       "204    3    0\n",
       "205    2    0\n",
       "218    1    0\n",
       "224    1    0\n",
       "\n",
       "[162 rows x 2 columns]"
      ]
     },
     "execution_count": 30,
     "metadata": {},
     "output_type": "execute_result"
    }
   ],
   "source": [
    "tab3=pd.crosstab(df['RMM'], df[\"PP\"])\n",
    "tab3"
   ]
  },
  {
   "cell_type": "code",
   "execution_count": 31,
   "id": "c40e7ca8",
   "metadata": {},
   "outputs": [
    {
     "name": "stdout",
     "output_type": "stream",
     "text": [
      "                sum_sq      df            F         PR(>F)\n",
      "PP        2.673783e+06     1.0  1698.683838  5.385563e-319\n",
      "Residual  7.700165e+06  4892.0          NaN            NaN\n"
     ]
    }
   ],
   "source": [
    "model = ols('RMM ~ PP', data=df).fit()\n",
    "anova_table3 = sm.stats.anova_lm(model, typ=2)\n",
    "print(anova_table3)"
   ]
  },
  {
   "cell_type": "code",
   "execution_count": 32,
   "id": "388c5923",
   "metadata": {},
   "outputs": [],
   "source": [
    "def rap_cor(table_anova3,n) :\n",
    "    VM=table_anova3['sum_sq'][0]\n",
    "    MV=table_anova3['sum_sq'][1]\n",
    "    rap_cor=round((VM/(VM+MV))**0.5,3)\n",
    "    return rap_cor"
   ]
  },
  {
   "cell_type": "code",
   "execution_count": 33,
   "id": "72b77342",
   "metadata": {},
   "outputs": [
    {
     "data": {
      "text/plain": [
       "0.508"
      ]
     },
     "execution_count": 33,
     "metadata": {},
     "output_type": "execute_result"
    }
   ],
   "source": [
    "n=df.shape[0]\n",
    "rap_cor(anova_table3,n)"
   ]
  },
  {
   "cell_type": "code",
   "execution_count": 35,
   "id": "15430221",
   "metadata": {
    "tags": []
   },
   "outputs": [
    {
     "name": "stderr",
     "output_type": "stream",
     "text": [
      "C:\\Users\\ASUS ROG Zephyrus S\\anaconda3\\Lib\\site-packages\\seaborn\\axisgrid.py:118: UserWarning: The figure layout has changed to tight\n",
      "  self._figure.tight_layout(*args, **kwargs)\n"
     ]
    },
    {
     "data": {
      "text/plain": [
       "<Figure size 1200x600 with 0 Axes>"
      ]
     },
     "metadata": {},
     "output_type": "display_data"
    },
    {
     "data": {
      "image/png": "[encoded data removed]",
      "text/plain": [
       "<Figure size 1200x600 with 2 Axes>"
      ]
     },
     "metadata": {},
     "output_type": "display_data"
    }
   ],
   "source": [
    "plt.figure(figsize=(12, 6))\n",
    "g = sns.FacetGrid(df, col='PP', height=6, aspect=1)\n",
    "g.map(sns.histplot, 'RMM', kde=True, bins=30, color='skyblue', edgecolor='black')\n",
    "g.set_axis_labels('revenue par milliers', 'Densité')\n",
    "g.set_titles(col_template='{col_name}')\n",
    "plt.suptitle('Histogramme avec densité du revenue par milliers en fonction de la variable du pret personnel', y=1.02)\n",
    "plt.show() #La probabilité de ne pas avoir un pret personnel est supperieur a l'avoir quoi que se soit l'age"
   ]
  },
  {
   "cell_type": "code",
   "execution_count": 35,
   "id": "a85ede93",
   "metadata": {},
   "outputs": [
    {
     "ename": "SyntaxError",
     "evalue": "invalid syntax (3336906364.py, line 3)",
     "output_type": "error",
     "traceback": [
      "\u001b[1;36m  Cell \u001b[1;32mIn[35], line 3\u001b[1;36m\u001b[0m\n\u001b[1;33m    Les différentes valeurs de l'axe x représentent les différentes plages Histogramme avec densité du revenue monsuelle par milliers, l'axe y représente les densités et la courbe bleu foncé représente la courbe de densité.\u001b[0m\n\u001b[1;37m        ^\u001b[0m\n\u001b[1;31mSyntaxError\u001b[0m\u001b[1;31m:\u001b[0m invalid syntax\n"
     ]
    }
   ],
   "source": [
    "# **Histogramme avec densité du revenue monsuelle par milliers en fonction de la variable du pret personnel**\n",
    "\n",
    "Les différentes valeurs de l'axe x représentent les différentes plages Histogramme avec densité du revenue monsuelle par milliers, l'axe y représente les densités et la courbe bleu foncé représente la courbe de densité.\n",
    "\n",
    "**Histogramme a gauche**\n",
    "\n",
    "Cet histogramme représente la distribution des revenue mensuelle par millier selon la modalié 'Non' du pret personnel\".\" Sa forme de distribution est une asymétrie à droite, le centre de distribution se situe entre la cinquième et sixième barres en se basant sur la moyenne et la médiane, plus les individus obtient un salaire supperieur plus ils sont tendances a avoir des pret personnel, d'ou la forme fine a droite de l'histogramme meme avec la presence de 4 pic.\n",
    "\n",
    "**Histogramme a droite**\n",
    "\n",
    "Cet histogramme représente la distribution des revenue mensuelle par millier selon la modalié 'Oui' du pret personnel.Sa forme de distribution est une légère asymétrie à gauche, le centre de distribution se situe au milieu en se basant sur la moyenne et la médiane, avec deux pics. Il a une forme fine a gauche se qui prouve que les individus ayant un salaire inferieur ont moins de probabilités a avoir des pret personnel."
   ]
  },
  {
   "cell_type": "markdown",
   "id": "66f4e8dd",
   "metadata": {},
   "source": [
    "## Analyse bivarié entre le nombre d'individus en famille et l'obtention d'un pret personnel"
   ]
  },
  {
   "cell_type": "code",
   "execution_count": 9,
   "id": "9c075cfa",
   "metadata": {
    "tags": []
   },
   "outputs": [],
   "source": [
    "df_pp_f=df.groupby(\"PP\")[\"F\"]"
   ]
  },
  {
   "cell_type": "code",
   "execution_count": 10,
   "id": "65944d99",
   "metadata": {
    "tags": []
   },
   "outputs": [
    {
     "data": {
      "text/html": [
       "<div>\n",
       "<style scoped>\n",
       "    .dataframe tbody tr th:only-of-type {\n",
       "        vertical-align: middle;\n",
       "    }\n",
       "\n",
       "    .dataframe tbody tr th {\n",
       "        vertical-align: top;\n",
       "    }\n",
       "\n",
       "    .dataframe thead th {\n",
       "        text-align: right;\n",
       "    }\n",
       "</style>\n",
       "<table border=\"1\" class=\"dataframe\">\n",
       "  <thead>\n",
       "    <tr style=\"text-align: right;\">\n",
       "      <th></th>\n",
       "      <th>count</th>\n",
       "      <th>mean</th>\n",
       "      <th>std</th>\n",
       "      <th>min</th>\n",
       "      <th>25%</th>\n",
       "      <th>50%</th>\n",
       "      <th>75%</th>\n",
       "      <th>max</th>\n",
       "    </tr>\n",
       "    <tr>\n",
       "      <th>PP</th>\n",
       "      <th></th>\n",
       "      <th></th>\n",
       "      <th></th>\n",
       "      <th></th>\n",
       "      <th></th>\n",
       "      <th></th>\n",
       "      <th></th>\n",
       "      <th></th>\n",
       "    </tr>\n",
       "  </thead>\n",
       "  <tbody>\n",
       "    <tr>\n",
       "      <th>Non</th>\n",
       "      <td>4415.0</td>\n",
       "      <td>2.382559</td>\n",
       "      <td>1.150723</td>\n",
       "      <td>1.0</td>\n",
       "      <td>1.0</td>\n",
       "      <td>2.0</td>\n",
       "      <td>3.0</td>\n",
       "      <td>4.0</td>\n",
       "    </tr>\n",
       "    <tr>\n",
       "      <th>Oui</th>\n",
       "      <td>479.0</td>\n",
       "      <td>2.615866</td>\n",
       "      <td>1.114116</td>\n",
       "      <td>1.0</td>\n",
       "      <td>2.0</td>\n",
       "      <td>3.0</td>\n",
       "      <td>4.0</td>\n",
       "      <td>4.0</td>\n",
       "    </tr>\n",
       "  </tbody>\n",
       "</table>\n",
       "</div>"
      ],
      "text/plain": [
       "      count      mean       std  min  25%  50%  75%  max\n",
       "PP                                                      \n",
       "Non  4415.0  2.382559  1.150723  1.0  1.0  2.0  3.0  4.0\n",
       "Oui   479.0  2.615866  1.114116  1.0  2.0  3.0  4.0  4.0"
      ]
     },
     "execution_count": 10,
     "metadata": {},
     "output_type": "execute_result"
    }
   ],
   "source": [
    "df_pp_f.describe()"
   ]
  },
  {
   "cell_type": "code",
   "execution_count": 36,
   "id": "32d7c53c",
   "metadata": {},
   "outputs": [
    {
     "data": {
      "image/png": "[encoded data removed]",
      "text/plain": [
       "<Figure size 640x480 with 1 Axes>"
      ]
     },
     "metadata": {},
     "output_type": "display_data"
    }
   ],
   "source": [
    "sns.boxplot(data=df, x=\"PP\", y='F')\n",
    "\n",
    "# nom des axes\n",
    "plt.xlabel(\"Pret Personnel\")\n",
    "plt.ylabel(\"Individus par famille\")\n",
    "# titre et sous-titre\n",
    "plt.suptitle(\"Pret Personnel selon le nombre d'individus par famille\")\n",
    "# grille\n",
    "plt.grid() #L'individu faisant partie d'une grande famille a plus de probabiliter d'avoir un pret personnel"
   ]
  },
  {
   "cell_type": "code",
   "execution_count": 37,
   "id": "209dc42b",
   "metadata": {},
   "outputs": [
    {
     "data": {
      "text/html": [
       "<div>\n",
       "<style scoped>\n",
       "    .dataframe tbody tr th:only-of-type {\n",
       "        vertical-align: middle;\n",
       "    }\n",
       "\n",
       "    .dataframe tbody tr th {\n",
       "        vertical-align: top;\n",
       "    }\n",
       "\n",
       "    .dataframe thead th {\n",
       "        text-align: right;\n",
       "    }\n",
       "</style>\n",
       "<table border=\"1\" class=\"dataframe\">\n",
       "  <thead>\n",
       "    <tr style=\"text-align: right;\">\n",
       "      <th>PP</th>\n",
       "      <th>Non</th>\n",
       "      <th>Oui</th>\n",
       "    </tr>\n",
       "    <tr>\n",
       "      <th>F</th>\n",
       "      <th></th>\n",
       "      <th></th>\n",
       "    </tr>\n",
       "  </thead>\n",
       "  <tbody>\n",
       "    <tr>\n",
       "      <th>1</th>\n",
       "      <td>1330</td>\n",
       "      <td>106</td>\n",
       "    </tr>\n",
       "    <tr>\n",
       "      <th>2</th>\n",
       "      <td>1137</td>\n",
       "      <td>106</td>\n",
       "    </tr>\n",
       "    <tr>\n",
       "      <th>3</th>\n",
       "      <td>877</td>\n",
       "      <td>133</td>\n",
       "    </tr>\n",
       "    <tr>\n",
       "      <th>4</th>\n",
       "      <td>1071</td>\n",
       "      <td>134</td>\n",
       "    </tr>\n",
       "  </tbody>\n",
       "</table>\n",
       "</div>"
      ],
      "text/plain": [
       "PP   Non  Oui\n",
       "F            \n",
       "1   1330  106\n",
       "2   1137  106\n",
       "3    877  133\n",
       "4   1071  134"
      ]
     },
     "execution_count": 37,
     "metadata": {},
     "output_type": "execute_result"
    }
   ],
   "source": [
    "tab4=pd.crosstab(df['F'], df[\"PP\"])\n",
    "tab4"
   ]
  },
  {
   "cell_type": "code",
   "execution_count": 38,
   "id": "017da188",
   "metadata": {},
   "outputs": [
    {
     "name": "stdout",
     "output_type": "stream",
     "text": [
      "               sum_sq      df          F    PR(>F)\n",
      "PP          23.521095     1.0  17.872327  0.000024\n",
      "Residual  6438.176494  4892.0        NaN       NaN\n"
     ]
    }
   ],
   "source": [
    "model = ols('F ~ PP', data=df).fit()\n",
    "anova_table4 = sm.stats.anova_lm(model, typ=2)\n",
    "print(anova_table4)"
   ]
  },
  {
   "cell_type": "code",
   "execution_count": 39,
   "id": "a2bb21c2",
   "metadata": {},
   "outputs": [],
   "source": [
    "def rap_cor(table_anova4,n) :\n",
    "    VM=table_anova4['sum_sq'][0]\n",
    "    MV=table_anova4['sum_sq'][1]\n",
    "    rap_cor=round((VM/(VM+MV))**0.5,3)\n",
    "    return rap_cor"
   ]
  },
  {
   "cell_type": "code",
   "execution_count": 40,
   "id": "c042b644",
   "metadata": {},
   "outputs": [
    {
     "data": {
      "text/plain": [
       "0.06"
      ]
     },
     "execution_count": 40,
     "metadata": {},
     "output_type": "execute_result"
    }
   ],
   "source": [
    "n=df.shape[0]\n",
    "rap_cor(anova_table4,n)"
   ]
  },
  {
   "cell_type": "code",
   "execution_count": 24,
   "id": "c80e9430",
   "metadata": {
    "tags": []
   },
   "outputs": [
    {
     "name": "stderr",
     "output_type": "stream",
     "text": [
      "C:\\Users\\ASUS ROG Zephyrus S\\anaconda3\\Lib\\site-packages\\seaborn\\axisgrid.py:118: UserWarning: The figure layout has changed to tight\n",
      "  self._figure.tight_layout(*args, **kwargs)\n"
     ]
    },
    {
     "data": {
      "text/plain": [
       "<Figure size 1200x600 with 0 Axes>"
      ]
     },
     "metadata": {},
     "output_type": "display_data"
    },
    {
     "data": {
      "image/png": "[encoded data removed]",
      "text/plain": [
       "<Figure size 1200x600 with 2 Axes>"
      ]
     },
     "metadata": {},
     "output_type": "display_data"
    }
   ],
   "source": [
    "plt.figure(figsize=(12, 6))\n",
    "g = sns.FacetGrid(df, col='PP', height=6, aspect=1)\n",
    "g.map(sns.histplot, 'F', kde=True, bins=30, color='skyblue', edgecolor='black')\n",
    "g.set_axis_labels('Nombre d\\'individus par famille', 'Densité')\n",
    "g.set_titles(col_template='{col_name}')\n",
    "plt.suptitle('Histogramme avec densité de nombre de personnes en fonction de la variable \"PP\"', y=1.02)\n",
    "plt.show() #La probabilité de ne pas avoir un pret personnel est supperieur a l'avoir quoi que se soit l'age"
   ]
  },
  {
   "cell_type": "code",
   "execution_count": 29,
   "id": "dc37c226-e444-4c1d-8452-5f4136b90905",
   "metadata": {
    "tags": []
   },
   "outputs": [
    {
     "data": {
      "image/png": "[encoded data removed]",
      "text/plain": [
       "<Figure size 1000x600 with 1 Axes>"
      ]
     },
     "metadata": {},
     "output_type": "display_data"
    }
   ],
   "source": [
    "data = {\n",
    "    'PP': ['Non', 'Non', 'Non', 'Non', 'Oui', 'Oui', 'Oui', 'Oui'],\n",
    "    'F': [1, 2, 3, 4, 1, 2, 3, 4],\n",
    "    'Count': [1330, 1137, 877, 1071, 106, 106, 133, 134]\n",
    "}\n",
    "\n",
    "# Création du DataFrame à partir des résultats de la table croisée\n",
    "df = pd.DataFrame(data)\n",
    "\n",
    "# Création du graphe de barres empilées\n",
    "pivot_df = df.pivot(index='F', columns='PP', values='Count')\n",
    "pivot_df.plot(kind='bar', stacked=True, figsize=(10, 6))\n",
    "\n",
    "# Ajout de titres et de légendes\n",
    "plt.xlabel('Niveau de F')\n",
    "plt.ylabel('Nombre de personnes')\n",
    "plt.title('Répartition par niveau de F et PP')\n",
    "plt.xticks(rotation=0)\n",
    "plt.legend(title='PP')\n",
    "\n",
    "# Affichage du graphe\n",
    "plt.tight_layout()\n",
    "plt.show()"
   ]
  },
  {
   "cell_type": "code",
   "execution_count": 21,
   "id": "8341cbfa-6dbe-4e04-b924-27171a1d72cf",
   "metadata": {
    "tags": []
   },
   "outputs": [
    {
     "name": "stdout",
     "output_type": "stream",
     "text": [
      "Tableau croisé dynamique entre 'Prêt Personnel' et 'Education':\n",
      " F       1     2    3     4\n",
      "PP                        \n",
      "Non  1330  1137  877  1071\n",
      "Oui   106   106  133   134\n"
     ]
    }
   ],
   "source": [
    "# Tableau croisé dynamique entre 'Prêt Personnel' et 'Education'\n",
    "tableau_croise = pd.crosstab(df['PP'], df['F'])\n",
    "\n",
    "# Afficher le tableau croisé\n",
    "print(\"Tableau croisé dynamique entre 'Prêt Personnel' et 'Education':\\n\", tableau_croise)\n"
   ]
  },
  {
   "cell_type": "markdown",
   "id": "815cf628",
   "metadata": {},
   "source": [
    "## Analyse bivarié entre les depenses mensuelles et l'obtention d'un pret personnel"
   ]
  },
  {
   "cell_type": "code",
   "execution_count": 42,
   "id": "8dd6855a",
   "metadata": {},
   "outputs": [],
   "source": [
    "df_pp_dm=df.groupby(\"PP\")[\"DM\"]"
   ]
  },
  {
   "cell_type": "code",
   "execution_count": 43,
   "id": "7f0ab394",
   "metadata": {},
   "outputs": [
    {
     "data": {
      "text/html": [
       "<div>\n",
       "<style scoped>\n",
       "    .dataframe tbody tr th:only-of-type {\n",
       "        vertical-align: middle;\n",
       "    }\n",
       "\n",
       "    .dataframe tbody tr th {\n",
       "        vertical-align: top;\n",
       "    }\n",
       "\n",
       "    .dataframe thead th {\n",
       "        text-align: right;\n",
       "    }\n",
       "</style>\n",
       "<table border=\"1\" class=\"dataframe\">\n",
       "  <thead>\n",
       "    <tr style=\"text-align: right;\">\n",
       "      <th></th>\n",
       "      <th>count</th>\n",
       "      <th>mean</th>\n",
       "      <th>std</th>\n",
       "      <th>min</th>\n",
       "      <th>25%</th>\n",
       "      <th>50%</th>\n",
       "      <th>75%</th>\n",
       "      <th>max</th>\n",
       "    </tr>\n",
       "    <tr>\n",
       "      <th>PP</th>\n",
       "      <th></th>\n",
       "      <th></th>\n",
       "      <th></th>\n",
       "      <th></th>\n",
       "      <th></th>\n",
       "      <th></th>\n",
       "      <th></th>\n",
       "      <th></th>\n",
       "    </tr>\n",
       "  </thead>\n",
       "  <tbody>\n",
       "    <tr>\n",
       "      <th>Non</th>\n",
       "      <td>4415.0</td>\n",
       "      <td>1770.129105</td>\n",
       "      <td>1563.065215</td>\n",
       "      <td>100.0</td>\n",
       "      <td>700.0</td>\n",
       "      <td>1500.0</td>\n",
       "      <td>2300.0</td>\n",
       "      <td>8800.0</td>\n",
       "    </tr>\n",
       "    <tr>\n",
       "      <th>Oui</th>\n",
       "      <td>479.0</td>\n",
       "      <td>3913.507307</td>\n",
       "      <td>2092.247049</td>\n",
       "      <td>100.0</td>\n",
       "      <td>2600.0</td>\n",
       "      <td>3800.0</td>\n",
       "      <td>5365.0</td>\n",
       "      <td>10000.0</td>\n",
       "    </tr>\n",
       "  </tbody>\n",
       "</table>\n",
       "</div>"
      ],
      "text/plain": [
       "      count         mean          std    min     25%     50%     75%      max\n",
       "PP                                                                           \n",
       "Non  4415.0  1770.129105  1563.065215  100.0   700.0  1500.0  2300.0   8800.0\n",
       "Oui   479.0  3913.507307  2092.247049  100.0  2600.0  3800.0  5365.0  10000.0"
      ]
     },
     "execution_count": 43,
     "metadata": {},
     "output_type": "execute_result"
    }
   ],
   "source": [
    "df_pp_dm.describe()"
   ]
  },
  {
   "cell_type": "code",
   "execution_count": 44,
   "id": "006257d7",
   "metadata": {},
   "outputs": [
    {
     "data": {
      "image/png": "[encoded data removed]",
      "text/plain": [
       "<Figure size 640x480 with 1 Axes>"
      ]
     },
     "metadata": {},
     "output_type": "display_data"
    }
   ],
   "source": [
    "sns.boxplot(data=df, x=\"PP\", y='DM')\n",
    "\n",
    "# nom des axes\n",
    "plt.xlabel(\"Pret Personnel\")\n",
    "plt.ylabel(\"Depenses mensuelles\")\n",
    "# titre et sous-titre\n",
    "plt.suptitle(\"Pret Personnel selon les depenses mensuelles\")\n",
    "# grille\n",
    "plt.grid()"
   ]
  },
  {
   "cell_type": "code",
   "execution_count": 45,
   "id": "fffd9364",
   "metadata": {},
   "outputs": [
    {
     "data": {
      "text/html": [
       "<div>\n",
       "<style scoped>\n",
       "    .dataframe tbody tr th:only-of-type {\n",
       "        vertical-align: middle;\n",
       "    }\n",
       "\n",
       "    .dataframe tbody tr th {\n",
       "        vertical-align: top;\n",
       "    }\n",
       "\n",
       "    .dataframe thead th {\n",
       "        text-align: right;\n",
       "    }\n",
       "</style>\n",
       "<table border=\"1\" class=\"dataframe\">\n",
       "  <thead>\n",
       "    <tr style=\"text-align: right;\">\n",
       "      <th>PP</th>\n",
       "      <th>Non</th>\n",
       "      <th>Oui</th>\n",
       "    </tr>\n",
       "    <tr>\n",
       "      <th>DM</th>\n",
       "      <th></th>\n",
       "      <th></th>\n",
       "    </tr>\n",
       "  </thead>\n",
       "  <tbody>\n",
       "    <tr>\n",
       "      <th>100</th>\n",
       "      <td>181</td>\n",
       "      <td>2</td>\n",
       "    </tr>\n",
       "    <tr>\n",
       "      <th>200</th>\n",
       "      <td>196</td>\n",
       "      <td>8</td>\n",
       "    </tr>\n",
       "    <tr>\n",
       "      <th>300</th>\n",
       "      <td>235</td>\n",
       "      <td>6</td>\n",
       "    </tr>\n",
       "    <tr>\n",
       "      <th>400</th>\n",
       "      <td>175</td>\n",
       "      <td>4</td>\n",
       "    </tr>\n",
       "    <tr>\n",
       "      <th>500</th>\n",
       "      <td>155</td>\n",
       "      <td>8</td>\n",
       "    </tr>\n",
       "    <tr>\n",
       "      <th>...</th>\n",
       "      <td>...</td>\n",
       "      <td>...</td>\n",
       "    </tr>\n",
       "    <tr>\n",
       "      <th>8800</th>\n",
       "      <td>8</td>\n",
       "      <td>1</td>\n",
       "    </tr>\n",
       "    <tr>\n",
       "      <th>8900</th>\n",
       "      <td>0</td>\n",
       "      <td>1</td>\n",
       "    </tr>\n",
       "    <tr>\n",
       "      <th>9000</th>\n",
       "      <td>0</td>\n",
       "      <td>2</td>\n",
       "    </tr>\n",
       "    <tr>\n",
       "      <th>9300</th>\n",
       "      <td>0</td>\n",
       "      <td>1</td>\n",
       "    </tr>\n",
       "    <tr>\n",
       "      <th>10000</th>\n",
       "      <td>0</td>\n",
       "      <td>3</td>\n",
       "    </tr>\n",
       "  </tbody>\n",
       "</table>\n",
       "<p>107 rows × 2 columns</p>\n",
       "</div>"
      ],
      "text/plain": [
       "PP     Non  Oui\n",
       "DM             \n",
       "100    181    2\n",
       "200    196    8\n",
       "300    235    6\n",
       "400    175    4\n",
       "500    155    8\n",
       "...    ...  ...\n",
       "8800     8    1\n",
       "8900     0    1\n",
       "9000     0    2\n",
       "9300     0    1\n",
       "10000    0    3\n",
       "\n",
       "[107 rows x 2 columns]"
      ]
     },
     "execution_count": 45,
     "metadata": {},
     "output_type": "execute_result"
    }
   ],
   "source": [
    "tab5=pd.crosstab(df['DM'], df[\"PP\"])\n",
    "tab5"
   ]
  },
  {
   "cell_type": "code",
   "execution_count": 46,
   "id": "0da892ee",
   "metadata": {},
   "outputs": [
    {
     "name": "stdout",
     "output_type": "stream",
     "text": [
      "                sum_sq      df          F         PR(>F)\n",
      "PP        1.985180e+09     1.0  754.19703  1.521745e-154\n",
      "Residual  1.287661e+10  4892.0        NaN            NaN\n"
     ]
    }
   ],
   "source": [
    "model = ols('DM ~ PP', data=df).fit()\n",
    "anova_table5 = sm.stats.anova_lm(model, typ=2)\n",
    "print(anova_table5)"
   ]
  },
  {
   "cell_type": "code",
   "execution_count": 47,
   "id": "18cbc70f",
   "metadata": {},
   "outputs": [],
   "source": [
    "def rap_cor(table_anova5,n) :\n",
    "    VM=table_anova5['sum_sq'][0]\n",
    "    MV=table_anova5['sum_sq'][1]\n",
    "    rap_cor=round((VM/(VM+MV))**0.5,3)\n",
    "    return rap_cor"
   ]
  },
  {
   "cell_type": "code",
   "execution_count": 48,
   "id": "1b550379",
   "metadata": {},
   "outputs": [
    {
     "data": {
      "text/plain": [
       "0.365"
      ]
     },
     "execution_count": 48,
     "metadata": {},
     "output_type": "execute_result"
    }
   ],
   "source": [
    "n=df.shape[0]\n",
    "rap_cor(anova_table5,n)"
   ]
  },
  {
   "cell_type": "code",
   "execution_count": 49,
   "id": "7941be84",
   "metadata": {},
   "outputs": [
    {
     "data": {
      "text/plain": [
       "<Figure size 1200x600 with 0 Axes>"
      ]
     },
     "metadata": {},
     "output_type": "display_data"
    },
    {
     "data": {
      "image/png": "[encoded data removed]",
      "text/plain": [
       "<Figure size 1200x600 with 2 Axes>"
      ]
     },
     "metadata": {},
     "output_type": "display_data"
    }
   ],
   "source": [
    "plt.figure(figsize=(12, 6))\n",
    "g = sns.FacetGrid(df, col='PP', height=6, aspect=1)\n",
    "g.map(sns.histplot, 'DM', kde=True, bins=30, color='skyblue', edgecolor='black')\n",
    "g.set_axis_labels('Depemses mensuelles', 'Densité')\n",
    "g.set_titles(col_template='{col_name}')\n",
    "plt.suptitle('Histogramme avec densité des depenses mensuelles en fonction de la variable du pret personnel', y=1.02)\n",
    "plt.show() #La probabilité de ne pas avoir un pret personnel est supperieur a l'avoir quoi que se soit les depenses mensuelles"
   ]
  },
  {
   "cell_type": "markdown",
   "id": "a0e5e700",
   "metadata": {},
   "source": [
    "## Analyse bivarié entre le niveau d'éducation et l'obtention d'un pret personnel"
   ]
  },
  {
   "cell_type": "code",
   "execution_count": 50,
   "id": "258b94b3",
   "metadata": {},
   "outputs": [],
   "source": [
    "df_pp_edu=df.groupby(\"PP\")[\"Educ\"]"
   ]
  },
  {
   "cell_type": "code",
   "execution_count": 51,
   "id": "6bedb8e6",
   "metadata": {},
   "outputs": [
    {
     "data": {
      "text/html": [
       "<div>\n",
       "<style scoped>\n",
       "    .dataframe tbody tr th:only-of-type {\n",
       "        vertical-align: middle;\n",
       "    }\n",
       "\n",
       "    .dataframe tbody tr th {\n",
       "        vertical-align: top;\n",
       "    }\n",
       "\n",
       "    .dataframe thead th {\n",
       "        text-align: right;\n",
       "    }\n",
       "</style>\n",
       "<table border=\"1\" class=\"dataframe\">\n",
       "  <thead>\n",
       "    <tr style=\"text-align: right;\">\n",
       "      <th></th>\n",
       "      <th>count</th>\n",
       "      <th>mean</th>\n",
       "      <th>std</th>\n",
       "      <th>min</th>\n",
       "      <th>25%</th>\n",
       "      <th>50%</th>\n",
       "      <th>75%</th>\n",
       "      <th>max</th>\n",
       "    </tr>\n",
       "    <tr>\n",
       "      <th>PP</th>\n",
       "      <th></th>\n",
       "      <th></th>\n",
       "      <th></th>\n",
       "      <th></th>\n",
       "      <th></th>\n",
       "      <th></th>\n",
       "      <th></th>\n",
       "      <th></th>\n",
       "    </tr>\n",
       "  </thead>\n",
       "  <tbody>\n",
       "    <tr>\n",
       "      <th>Non</th>\n",
       "      <td>4415.0</td>\n",
       "      <td>1.847792</td>\n",
       "      <td>0.839352</td>\n",
       "      <td>1.0</td>\n",
       "      <td>1.0</td>\n",
       "      <td>2.0</td>\n",
       "      <td>3.0</td>\n",
       "      <td>3.0</td>\n",
       "    </tr>\n",
       "    <tr>\n",
       "      <th>Oui</th>\n",
       "      <td>479.0</td>\n",
       "      <td>2.233820</td>\n",
       "      <td>0.754085</td>\n",
       "      <td>1.0</td>\n",
       "      <td>2.0</td>\n",
       "      <td>2.0</td>\n",
       "      <td>3.0</td>\n",
       "      <td>3.0</td>\n",
       "    </tr>\n",
       "  </tbody>\n",
       "</table>\n",
       "</div>"
      ],
      "text/plain": [
       "      count      mean       std  min  25%  50%  75%  max\n",
       "PP                                                      \n",
       "Non  4415.0  1.847792  0.839352  1.0  1.0  2.0  3.0  3.0\n",
       "Oui   479.0  2.233820  0.754085  1.0  2.0  2.0  3.0  3.0"
      ]
     },
     "execution_count": 51,
     "metadata": {},
     "output_type": "execute_result"
    }
   ],
   "source": [
    "df_pp_edu.describe()"
   ]
  },
  {
   "cell_type": "code",
   "execution_count": 52,
   "id": "1c23b1c2",
   "metadata": {},
   "outputs": [
    {
     "data": {
      "image/png": "[encoded data removed]",
      "text/plain": [
       "<Figure size 640x480 with 1 Axes>"
      ]
     },
     "metadata": {},
     "output_type": "display_data"
    }
   ],
   "source": [
    "sns.boxplot(data=df, x=\"PP\", y='Educ')\n",
    "\n",
    "# nom des axes\n",
    "plt.xlabel(\"Pret Personnel\")\n",
    "plt.ylabel(\"Niveau d'education\")\n",
    "# titre et sous-titre\n",
    "plt.suptitle(\"Pret Personnel selon le niveau d'education\")\n",
    "# grille\n",
    "plt.grid()"
   ]
  },
  {
   "cell_type": "code",
   "execution_count": 53,
   "id": "a8b89b93",
   "metadata": {},
   "outputs": [
    {
     "data": {
      "text/html": [
       "<div>\n",
       "<style scoped>\n",
       "    .dataframe tbody tr th:only-of-type {\n",
       "        vertical-align: middle;\n",
       "    }\n",
       "\n",
       "    .dataframe tbody tr th {\n",
       "        vertical-align: top;\n",
       "    }\n",
       "\n",
       "    .dataframe thead th {\n",
       "        text-align: right;\n",
       "    }\n",
       "</style>\n",
       "<table border=\"1\" class=\"dataframe\">\n",
       "  <thead>\n",
       "    <tr style=\"text-align: right;\">\n",
       "      <th>PP</th>\n",
       "      <th>Non</th>\n",
       "      <th>Oui</th>\n",
       "    </tr>\n",
       "    <tr>\n",
       "      <th>Educ</th>\n",
       "      <th></th>\n",
       "      <th></th>\n",
       "    </tr>\n",
       "  </thead>\n",
       "  <tbody>\n",
       "    <tr>\n",
       "      <th>1</th>\n",
       "      <td>1942</td>\n",
       "      <td>93</td>\n",
       "    </tr>\n",
       "    <tr>\n",
       "      <th>2</th>\n",
       "      <td>1203</td>\n",
       "      <td>181</td>\n",
       "    </tr>\n",
       "    <tr>\n",
       "      <th>3</th>\n",
       "      <td>1270</td>\n",
       "      <td>205</td>\n",
       "    </tr>\n",
       "  </tbody>\n",
       "</table>\n",
       "</div>"
      ],
      "text/plain": [
       "PP     Non  Oui\n",
       "Educ           \n",
       "1     1942   93\n",
       "2     1203  181\n",
       "3     1270  205"
      ]
     },
     "execution_count": 53,
     "metadata": {},
     "output_type": "execute_result"
    }
   ],
   "source": [
    "tab6=pd.crosstab(df['Educ'], df[\"PP\"])\n",
    "tab6"
   ]
  },
  {
   "cell_type": "code",
   "execution_count": 45,
   "id": "c0c400db-0ad7-4e6d-a066-0a52562917ed",
   "metadata": {
    "tags": []
   },
   "outputs": [
    {
     "data": {
      "image/png": "[encoded data removed]",
      "text/plain": [
       "<Figure size 1000x600 with 1 Axes>"
      ]
     },
     "metadata": {},
     "output_type": "display_data"
    }
   ],
   "source": [
    "data = {\n",
    "    'PP': ['Non', 'Non', 'Non', 'Oui', 'Oui', 'Oui'],\n",
    "    'F': [1, 2, 3, 1, 2, 3],\n",
    "    'Count': [1942, 1203, 1270, 93, 181, 205]\n",
    "}\n",
    "\n",
    "# Création du DataFrame à partir des résultats de la table croisée\n",
    "df = pd.DataFrame(data)\n",
    "\n",
    "# Création du graphe de barres empilées\n",
    "pivot_df = df.pivot(index='F', columns='PP', values='Count')\n",
    "pivot_df.plot(kind='bar', stacked=True, figsize=(10, 6))\n",
    "\n",
    "# Ajout de titres et de légendes\n",
    "plt.xlabel('Niveau d\\'education')\n",
    "plt.ylabel('Nombre de personnes')\n",
    "plt.title('Répartition par niveau de Niveau d\\'education et le pret personnel')\n",
    "plt.xticks(rotation=0)\n",
    "plt.legend(title='PP')\n",
    "\n",
    "# Affichage du graphe\n",
    "plt.tight_layout()\n",
    "plt.show()"
   ]
  },
  {
   "cell_type": "code",
   "execution_count": 54,
   "id": "152f0e65",
   "metadata": {},
   "outputs": [
    {
     "name": "stdout",
     "output_type": "stream",
     "text": [
      "               sum_sq      df          F        PR(>F)\n",
      "PP          64.393460     1.0  93.156939  7.555922e-22\n",
      "Residual  3381.528077  4892.0        NaN           NaN\n"
     ]
    }
   ],
   "source": [
    "model = ols('Educ ~ PP', data=df).fit()\n",
    "anova_table6 = sm.stats.anova_lm(model, typ=2)\n",
    "print(anova_table6)"
   ]
  },
  {
   "cell_type": "code",
   "execution_count": 55,
   "id": "aca35c2a",
   "metadata": {},
   "outputs": [],
   "source": [
    "def rap_cor(table_anova6,n) :\n",
    "    VM=table_anova6['sum_sq'][0]\n",
    "    MV=table_anova6['sum_sq'][1]\n",
    "    rap_cor=round((VM/(VM+MV))**0.5,3)\n",
    "    return rap_cor"
   ]
  },
  {
   "cell_type": "code",
   "execution_count": 56,
   "id": "df3e8e00",
   "metadata": {},
   "outputs": [
    {
     "data": {
      "text/plain": [
       "0.137"
      ]
     },
     "execution_count": 56,
     "metadata": {},
     "output_type": "execute_result"
    }
   ],
   "source": [
    "n=df.shape[0]\n",
    "rap_cor(anova_table6,n)"
   ]
  },
  {
   "cell_type": "code",
   "execution_count": 57,
   "id": "d1231d30",
   "metadata": {},
   "outputs": [
    {
     "data": {
      "text/plain": [
       "<Figure size 1200x600 with 0 Axes>"
      ]
     },
     "metadata": {},
     "output_type": "display_data"
    },
    {
     "data": {
      "image/png": "[encoded data removed]",
      "text/plain": [
       "<Figure size 1200x600 with 2 Axes>"
      ]
     },
     "metadata": {},
     "output_type": "display_data"
    }
   ],
   "source": [
    "plt.figure(figsize=(12, 6))\n",
    "g = sns.FacetGrid(df, col='PP', height=6, aspect=1)\n",
    "g.map(sns.histplot, 'Educ', kde=True, bins=30, color='skyblue', edgecolor='black')\n",
    "g.set_axis_labels('Niveau d\\'education', 'Densité')\n",
    "g.set_titles(col_template='{col_name}')\n",
    "plt.suptitle('Histogramme avec densité de l\\'âge en fonction de la variable \"PP\"', y=1.02)\n",
    "plt.show() "
   ]
  },
  {
   "cell_type": "markdown",
   "id": "77033b1d",
   "metadata": {},
   "source": [
    "## Analyse bivarié entre l'acquisition d'un compte epargne logement et l'obtention d'un pret personnel"
   ]
  },
  {
   "cell_type": "code",
   "execution_count": 43,
   "id": "91d44c2f",
   "metadata": {
    "tags": []
   },
   "outputs": [
    {
     "data": {
      "text/html": [
       "<div>\n",
       "<style scoped>\n",
       "    .dataframe tbody tr th:only-of-type {\n",
       "        vertical-align: middle;\n",
       "    }\n",
       "\n",
       "    .dataframe tbody tr th {\n",
       "        vertical-align: top;\n",
       "    }\n",
       "\n",
       "    .dataframe thead th {\n",
       "        text-align: right;\n",
       "    }\n",
       "</style>\n",
       "<table border=\"1\" class=\"dataframe\">\n",
       "  <thead>\n",
       "    <tr style=\"text-align: right;\">\n",
       "      <th>PP</th>\n",
       "      <th>Non</th>\n",
       "      <th>Oui</th>\n",
       "    </tr>\n",
       "    <tr>\n",
       "      <th>CEL</th>\n",
       "      <th></th>\n",
       "      <th></th>\n",
       "    </tr>\n",
       "  </thead>\n",
       "  <tbody>\n",
       "    <tr>\n",
       "      <th>Non</th>\n",
       "      <td>4255</td>\n",
       "      <td>339</td>\n",
       "    </tr>\n",
       "    <tr>\n",
       "      <th>Oui</th>\n",
       "      <td>160</td>\n",
       "      <td>140</td>\n",
       "    </tr>\n",
       "  </tbody>\n",
       "</table>\n",
       "</div>"
      ],
      "text/plain": [
       "PP    Non  Oui\n",
       "CEL           \n",
       "Non  4255  339\n",
       "Oui   160  140"
      ]
     },
     "execution_count": 43,
     "metadata": {},
     "output_type": "execute_result"
    }
   ],
   "source": [
    "tab7=pd.crosstab(df['CEL'], df[\"PP\"])\n",
    "tab7"
   ]
  },
  {
   "cell_type": "code",
   "execution_count": 46,
   "id": "294d5e52-02a3-4f93-8535-5471fcf418d9",
   "metadata": {
    "tags": []
   },
   "outputs": [
    {
     "data": {
      "image/png": "[encoded data removed]",
      "text/plain": [
       "<Figure size 1000x600 with 1 Axes>"
      ]
     },
     "metadata": {},
     "output_type": "display_data"
    }
   ],
   "source": [
    "# Affichage du diagramme à partir de la table croisée tab7\n",
    "tab7.plot(kind='bar', stacked=True, figsize=(10, 6))\n",
    "\n",
    "# Ajout de titres et de légendes\n",
    "plt.title('Diagramme des valeurs croisées du compte d\\epargne logement et le pret personnel')\n",
    "plt.xlabel('Compte d\\'epargne logement')  # Nom de l'axe des x\n",
    "plt.ylabel('Fréquence')  # Nom de l'axe des y\n",
    "plt.legend(title='PP')  # Légende pour les couleurs\n",
    "\n",
    "# Affichage du diagramme\n",
    "plt.show()"
   ]
  },
  {
   "cell_type": "code",
   "execution_count": 13,
   "id": "da5d6b6d-1a72-482d-a515-1255a0e09faf",
   "metadata": {
    "tags": []
   },
   "outputs": [],
   "source": [
    "df_pp_edu=df.groupby(\"PP\")[\"\"]"
   ]
  },
  {
   "cell_type": "code",
   "execution_count": 14,
   "id": "5bba30a9-2da5-4c0b-a903-5c8a77f45dde",
   "metadata": {
    "tags": []
   },
   "outputs": [
    {
     "data": {
      "text/html": [
       "<div>\n",
       "<style scoped>\n",
       "    .dataframe tbody tr th:only-of-type {\n",
       "        vertical-align: middle;\n",
       "    }\n",
       "\n",
       "    .dataframe tbody tr th {\n",
       "        vertical-align: top;\n",
       "    }\n",
       "\n",
       "    .dataframe thead th {\n",
       "        text-align: right;\n",
       "    }\n",
       "</style>\n",
       "<table border=\"1\" class=\"dataframe\">\n",
       "  <thead>\n",
       "    <tr style=\"text-align: right;\">\n",
       "      <th></th>\n",
       "      <th>count</th>\n",
       "      <th>unique</th>\n",
       "      <th>top</th>\n",
       "      <th>freq</th>\n",
       "    </tr>\n",
       "    <tr>\n",
       "      <th>PP</th>\n",
       "      <th></th>\n",
       "      <th></th>\n",
       "      <th></th>\n",
       "      <th></th>\n",
       "    </tr>\n",
       "  </thead>\n",
       "  <tbody>\n",
       "    <tr>\n",
       "      <th>Non</th>\n",
       "      <td>4415</td>\n",
       "      <td>2</td>\n",
       "      <td>Non</td>\n",
       "      <td>4255</td>\n",
       "    </tr>\n",
       "    <tr>\n",
       "      <th>Oui</th>\n",
       "      <td>479</td>\n",
       "      <td>2</td>\n",
       "      <td>Non</td>\n",
       "      <td>339</td>\n",
       "    </tr>\n",
       "  </tbody>\n",
       "</table>\n",
       "</div>"
      ],
      "text/plain": [
       "    count unique  top  freq\n",
       "PP                         \n",
       "Non  4415      2  Non  4255\n",
       "Oui   479      2  Non   339"
      ]
     },
     "execution_count": 14,
     "metadata": {},
     "output_type": "execute_result"
    }
   ],
   "source": [
    "df_pp_cel.describe()"
   ]
  },
  {
   "cell_type": "code",
   "execution_count": 59,
   "id": "41defd06",
   "metadata": {},
   "outputs": [
    {
     "data": {
      "text/plain": [
       "Chi2ContingencyResult(statistic=487.8473806290599, pvalue=4.189861373671145e-108, dof=1, expected_freq=array([[4144.36248468,  449.63751532],\n",
       "       [ 270.63751532,   29.36248468]]))"
      ]
     },
     "execution_count": 59,
     "metadata": {},
     "output_type": "execute_result"
    }
   ],
   "source": [
    "chi2_contingency(tab7)"
   ]
  },
  {
   "cell_type": "code",
   "execution_count": 60,
   "id": "781966cb",
   "metadata": {},
   "outputs": [
    {
     "data": {
      "text/plain": [
       "1.6905763480541124e-67"
      ]
     },
     "execution_count": 60,
     "metadata": {},
     "output_type": "execute_result"
    }
   ],
   "source": [
    "fisher_exact(tab7)[1]"
   ]
  }
 ],
 "metadata": {
  "kernelspec": {
   "display_name": "Python 3 (ipykernel)",
   "language": "python",
   "name": "python3"
  },
  "language_info": {
   "codemirror_mode": {
    "name": "ipython",
    "version": 3
   },
   "file_extension": ".py",
   "mimetype": "text/x-python",
   "name": "python",
   "nbconvert_exporter": "python",
   "pygments_lexer": "ipython3",
   "version": "3.11.5"
  }
 },
 "nbformat": 4,
 "nbformat_minor": 5
}
